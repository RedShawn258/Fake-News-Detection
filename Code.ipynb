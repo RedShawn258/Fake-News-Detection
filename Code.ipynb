{
  "nbformat": 4,
  "nbformat_minor": 0,
  "metadata": {
    "accelerator": "GPU",
    "colab": {
      "name": "Spot Fake.ipynb",
      "provenance": [],
      "collapsed_sections": [],
      "toc_visible": true
    },
    "kernelspec": {
      "display_name": "Python 3",
      "name": "python3"
    },
    "language_info": {
      "name": "python"
    },
    "widgets": {
      "application/vnd.jupyter.widget-state+json": {
        "dda83c79cb1c469286ec136369187914": {
          "model_module": "@jupyter-widgets/controls",
          "model_name": "HBoxModel",
          "model_module_version": "1.5.0",
          "state": {
            "_view_name": "HBoxView",
            "_dom_classes": [],
            "_model_name": "HBoxModel",
            "_view_module": "@jupyter-widgets/controls",
            "_model_module_version": "1.5.0",
            "_view_count": null,
            "_view_module_version": "1.5.0",
            "box_style": "",
            "layout": "IPY_MODEL_10f0ba4f0be44e34a703211721204d42",
            "_model_module": "@jupyter-widgets/controls",
            "children": [
              "IPY_MODEL_eb0314380c1546b984551dcdc66a646c",
              "IPY_MODEL_2fca68b32f744fc3ba8031240b33fc59"
            ]
          }
        },
        "10f0ba4f0be44e34a703211721204d42": {
          "model_module": "@jupyter-widgets/base",
          "model_name": "LayoutModel",
          "model_module_version": "1.2.0",
          "state": {
            "_view_name": "LayoutView",
            "grid_template_rows": null,
            "right": null,
            "justify_content": null,
            "_view_module": "@jupyter-widgets/base",
            "overflow": null,
            "_model_module_version": "1.2.0",
            "_view_count": null,
            "flex_flow": null,
            "width": null,
            "min_width": null,
            "border": null,
            "align_items": null,
            "bottom": null,
            "_model_module": "@jupyter-widgets/base",
            "top": null,
            "grid_column": null,
            "overflow_y": null,
            "overflow_x": null,
            "grid_auto_flow": null,
            "grid_area": null,
            "grid_template_columns": null,
            "flex": null,
            "_model_name": "LayoutModel",
            "justify_items": null,
            "grid_row": null,
            "max_height": null,
            "align_content": null,
            "visibility": null,
            "align_self": null,
            "height": null,
            "min_height": null,
            "padding": null,
            "grid_auto_rows": null,
            "grid_gap": null,
            "max_width": null,
            "order": null,
            "_view_module_version": "1.2.0",
            "grid_template_areas": null,
            "object_position": null,
            "object_fit": null,
            "grid_auto_columns": null,
            "margin": null,
            "display": null,
            "left": null
          }
        },
        "eb0314380c1546b984551dcdc66a646c": {
          "model_module": "@jupyter-widgets/controls",
          "model_name": "FloatProgressModel",
          "model_module_version": "1.5.0",
          "state": {
            "_view_name": "ProgressView",
            "style": "IPY_MODEL_52f206eb014946288f7dcf2f67201946",
            "_dom_classes": [],
            "description": "Converting examples to features: 100%",
            "_model_name": "FloatProgressModel",
            "bar_style": "success",
            "max": 13241,
            "_view_module": "@jupyter-widgets/controls",
            "_model_module_version": "1.5.0",
            "value": 13241,
            "_view_count": null,
            "_view_module_version": "1.5.0",
            "orientation": "horizontal",
            "min": 0,
            "description_tooltip": null,
            "_model_module": "@jupyter-widgets/controls",
            "layout": "IPY_MODEL_a551b5e7d23e4c3091571e4760c31cf8"
          }
        },
        "2fca68b32f744fc3ba8031240b33fc59": {
          "model_module": "@jupyter-widgets/controls",
          "model_name": "HTMLModel",
          "model_module_version": "1.5.0",
          "state": {
            "_view_name": "HTMLView",
            "style": "IPY_MODEL_7461a39828d94b3e8c88e7e1c37fd758",
            "_dom_classes": [],
            "description": "",
            "_model_name": "HTMLModel",
            "placeholder": "​",
            "_view_module": "@jupyter-widgets/controls",
            "_model_module_version": "1.5.0",
            "value": " 13241/13241 [05:22&lt;00:00, 41.03it/s]",
            "_view_count": null,
            "_view_module_version": "1.5.0",
            "description_tooltip": null,
            "_model_module": "@jupyter-widgets/controls",
            "layout": "IPY_MODEL_6d91747780b64c88bc7db39a2759faa5"
          }
        },
        "52f206eb014946288f7dcf2f67201946": {
          "model_module": "@jupyter-widgets/controls",
          "model_name": "ProgressStyleModel",
          "model_module_version": "1.5.0",
          "state": {
            "_view_name": "StyleView",
            "_model_name": "ProgressStyleModel",
            "description_width": "initial",
            "_view_module": "@jupyter-widgets/base",
            "_model_module_version": "1.5.0",
            "_view_count": null,
            "_view_module_version": "1.2.0",
            "bar_color": null,
            "_model_module": "@jupyter-widgets/controls"
          }
        },
        "a551b5e7d23e4c3091571e4760c31cf8": {
          "model_module": "@jupyter-widgets/base",
          "model_name": "LayoutModel",
          "model_module_version": "1.2.0",
          "state": {
            "_view_name": "LayoutView",
            "grid_template_rows": null,
            "right": null,
            "justify_content": null,
            "_view_module": "@jupyter-widgets/base",
            "overflow": null,
            "_model_module_version": "1.2.0",
            "_view_count": null,
            "flex_flow": null,
            "width": null,
            "min_width": null,
            "border": null,
            "align_items": null,
            "bottom": null,
            "_model_module": "@jupyter-widgets/base",
            "top": null,
            "grid_column": null,
            "overflow_y": null,
            "overflow_x": null,
            "grid_auto_flow": null,
            "grid_area": null,
            "grid_template_columns": null,
            "flex": null,
            "_model_name": "LayoutModel",
            "justify_items": null,
            "grid_row": null,
            "max_height": null,
            "align_content": null,
            "visibility": null,
            "align_self": null,
            "height": null,
            "min_height": null,
            "padding": null,
            "grid_auto_rows": null,
            "grid_gap": null,
            "max_width": null,
            "order": null,
            "_view_module_version": "1.2.0",
            "grid_template_areas": null,
            "object_position": null,
            "object_fit": null,
            "grid_auto_columns": null,
            "margin": null,
            "display": null,
            "left": null
          }
        },
        "7461a39828d94b3e8c88e7e1c37fd758": {
          "model_module": "@jupyter-widgets/controls",
          "model_name": "DescriptionStyleModel",
          "model_module_version": "1.5.0",
          "state": {
            "_view_name": "StyleView",
            "_model_name": "DescriptionStyleModel",
            "description_width": "",
            "_view_module": "@jupyter-widgets/base",
            "_model_module_version": "1.5.0",
            "_view_count": null,
            "_view_module_version": "1.2.0",
            "_model_module": "@jupyter-widgets/controls"
          }
        },
        "6d91747780b64c88bc7db39a2759faa5": {
          "model_module": "@jupyter-widgets/base",
          "model_name": "LayoutModel",
          "model_module_version": "1.2.0",
          "state": {
            "_view_name": "LayoutView",
            "grid_template_rows": null,
            "right": null,
            "justify_content": null,
            "_view_module": "@jupyter-widgets/base",
            "overflow": null,
            "_model_module_version": "1.2.0",
            "_view_count": null,
            "flex_flow": null,
            "width": null,
            "min_width": null,
            "border": null,
            "align_items": null,
            "bottom": null,
            "_model_module": "@jupyter-widgets/base",
            "top": null,
            "grid_column": null,
            "overflow_y": null,
            "overflow_x": null,
            "grid_auto_flow": null,
            "grid_area": null,
            "grid_template_columns": null,
            "flex": null,
            "_model_name": "LayoutModel",
            "justify_items": null,
            "grid_row": null,
            "max_height": null,
            "align_content": null,
            "visibility": null,
            "align_self": null,
            "height": null,
            "min_height": null,
            "padding": null,
            "grid_auto_rows": null,
            "grid_gap": null,
            "max_width": null,
            "order": null,
            "_view_module_version": "1.2.0",
            "grid_template_areas": null,
            "object_position": null,
            "object_fit": null,
            "grid_auto_columns": null,
            "margin": null,
            "display": null,
            "left": null
          }
        },
        "2cd373df40c14cf18c8ecf4bc6d13703": {
          "model_module": "@jupyter-widgets/controls",
          "model_name": "HBoxModel",
          "model_module_version": "1.5.0",
          "state": {
            "_view_name": "HBoxView",
            "_dom_classes": [],
            "_model_name": "HBoxModel",
            "_view_module": "@jupyter-widgets/controls",
            "_model_module_version": "1.5.0",
            "_view_count": null,
            "_view_module_version": "1.5.0",
            "box_style": "",
            "layout": "IPY_MODEL_11438e3fd3af4c3993881595546a8d96",
            "_model_module": "@jupyter-widgets/controls",
            "children": [
              "IPY_MODEL_88d41d649db345e1a177a9f385269da5",
              "IPY_MODEL_1dc41da47d0d45f4917f324c5c856dc4"
            ]
          }
        },
        "11438e3fd3af4c3993881595546a8d96": {
          "model_module": "@jupyter-widgets/base",
          "model_name": "LayoutModel",
          "model_module_version": "1.2.0",
          "state": {
            "_view_name": "LayoutView",
            "grid_template_rows": null,
            "right": null,
            "justify_content": null,
            "_view_module": "@jupyter-widgets/base",
            "overflow": null,
            "_model_module_version": "1.2.0",
            "_view_count": null,
            "flex_flow": null,
            "width": null,
            "min_width": null,
            "border": null,
            "align_items": null,
            "bottom": null,
            "_model_module": "@jupyter-widgets/base",
            "top": null,
            "grid_column": null,
            "overflow_y": null,
            "overflow_x": null,
            "grid_auto_flow": null,
            "grid_area": null,
            "grid_template_columns": null,
            "flex": null,
            "_model_name": "LayoutModel",
            "justify_items": null,
            "grid_row": null,
            "max_height": null,
            "align_content": null,
            "visibility": null,
            "align_self": null,
            "height": null,
            "min_height": null,
            "padding": null,
            "grid_auto_rows": null,
            "grid_gap": null,
            "max_width": null,
            "order": null,
            "_view_module_version": "1.2.0",
            "grid_template_areas": null,
            "object_position": null,
            "object_fit": null,
            "grid_auto_columns": null,
            "margin": null,
            "display": null,
            "left": null
          }
        },
        "88d41d649db345e1a177a9f385269da5": {
          "model_module": "@jupyter-widgets/controls",
          "model_name": "FloatProgressModel",
          "model_module_version": "1.5.0",
          "state": {
            "_view_name": "ProgressView",
            "style": "IPY_MODEL_1aff52c27d89437cb8a04b5403a5301b",
            "_dom_classes": [],
            "description": "Converting examples to features: 100%",
            "_model_name": "FloatProgressModel",
            "bar_style": "success",
            "max": 1098,
            "_view_module": "@jupyter-widgets/controls",
            "_model_module_version": "1.5.0",
            "value": 1098,
            "_view_count": null,
            "_view_module_version": "1.5.0",
            "orientation": "horizontal",
            "min": 0,
            "description_tooltip": null,
            "_model_module": "@jupyter-widgets/controls",
            "layout": "IPY_MODEL_4387839efd0b4a06a2bca0ab03be94b5"
          }
        },
        "1dc41da47d0d45f4917f324c5c856dc4": {
          "model_module": "@jupyter-widgets/controls",
          "model_name": "HTMLModel",
          "model_module_version": "1.5.0",
          "state": {
            "_view_name": "HTMLView",
            "style": "IPY_MODEL_b872205f3007447ca2e15d66a0c1e7a5",
            "_dom_classes": [],
            "description": "",
            "_model_name": "HTMLModel",
            "placeholder": "​",
            "_view_module": "@jupyter-widgets/controls",
            "_model_module_version": "1.5.0",
            "value": " 1098/1098 [00:01&lt;00:00, 1038.55it/s]",
            "_view_count": null,
            "_view_module_version": "1.5.0",
            "description_tooltip": null,
            "_model_module": "@jupyter-widgets/controls",
            "layout": "IPY_MODEL_9a638a4151094322975c64adf69bc825"
          }
        },
        "1aff52c27d89437cb8a04b5403a5301b": {
          "model_module": "@jupyter-widgets/controls",
          "model_name": "ProgressStyleModel",
          "model_module_version": "1.5.0",
          "state": {
            "_view_name": "StyleView",
            "_model_name": "ProgressStyleModel",
            "description_width": "initial",
            "_view_module": "@jupyter-widgets/base",
            "_model_module_version": "1.5.0",
            "_view_count": null,
            "_view_module_version": "1.2.0",
            "bar_color": null,
            "_model_module": "@jupyter-widgets/controls"
          }
        },
        "4387839efd0b4a06a2bca0ab03be94b5": {
          "model_module": "@jupyter-widgets/base",
          "model_name": "LayoutModel",
          "model_module_version": "1.2.0",
          "state": {
            "_view_name": "LayoutView",
            "grid_template_rows": null,
            "right": null,
            "justify_content": null,
            "_view_module": "@jupyter-widgets/base",
            "overflow": null,
            "_model_module_version": "1.2.0",
            "_view_count": null,
            "flex_flow": null,
            "width": null,
            "min_width": null,
            "border": null,
            "align_items": null,
            "bottom": null,
            "_model_module": "@jupyter-widgets/base",
            "top": null,
            "grid_column": null,
            "overflow_y": null,
            "overflow_x": null,
            "grid_auto_flow": null,
            "grid_area": null,
            "grid_template_columns": null,
            "flex": null,
            "_model_name": "LayoutModel",
            "justify_items": null,
            "grid_row": null,
            "max_height": null,
            "align_content": null,
            "visibility": null,
            "align_self": null,
            "height": null,
            "min_height": null,
            "padding": null,
            "grid_auto_rows": null,
            "grid_gap": null,
            "max_width": null,
            "order": null,
            "_view_module_version": "1.2.0",
            "grid_template_areas": null,
            "object_position": null,
            "object_fit": null,
            "grid_auto_columns": null,
            "margin": null,
            "display": null,
            "left": null
          }
        },
        "b872205f3007447ca2e15d66a0c1e7a5": {
          "model_module": "@jupyter-widgets/controls",
          "model_name": "DescriptionStyleModel",
          "model_module_version": "1.5.0",
          "state": {
            "_view_name": "StyleView",
            "_model_name": "DescriptionStyleModel",
            "description_width": "",
            "_view_module": "@jupyter-widgets/base",
            "_model_module_version": "1.5.0",
            "_view_count": null,
            "_view_module_version": "1.2.0",
            "_model_module": "@jupyter-widgets/controls"
          }
        },
        "9a638a4151094322975c64adf69bc825": {
          "model_module": "@jupyter-widgets/base",
          "model_name": "LayoutModel",
          "model_module_version": "1.2.0",
          "state": {
            "_view_name": "LayoutView",
            "grid_template_rows": null,
            "right": null,
            "justify_content": null,
            "_view_module": "@jupyter-widgets/base",
            "overflow": null,
            "_model_module_version": "1.2.0",
            "_view_count": null,
            "flex_flow": null,
            "width": null,
            "min_width": null,
            "border": null,
            "align_items": null,
            "bottom": null,
            "_model_module": "@jupyter-widgets/base",
            "top": null,
            "grid_column": null,
            "overflow_y": null,
            "overflow_x": null,
            "grid_auto_flow": null,
            "grid_area": null,
            "grid_template_columns": null,
            "flex": null,
            "_model_name": "LayoutModel",
            "justify_items": null,
            "grid_row": null,
            "max_height": null,
            "align_content": null,
            "visibility": null,
            "align_self": null,
            "height": null,
            "min_height": null,
            "padding": null,
            "grid_auto_rows": null,
            "grid_gap": null,
            "max_width": null,
            "order": null,
            "_view_module_version": "1.2.0",
            "grid_template_areas": null,
            "object_position": null,
            "object_fit": null,
            "grid_auto_columns": null,
            "margin": null,
            "display": null,
            "left": null
          }
        },
        "8d0c6bf9708141d0bd7526e6fd42b6b3": {
          "model_module": "@jupyter-widgets/controls",
          "model_name": "HBoxModel",
          "model_module_version": "1.5.0",
          "state": {
            "_view_name": "HBoxView",
            "_dom_classes": [],
            "_model_name": "HBoxModel",
            "_view_module": "@jupyter-widgets/controls",
            "_model_module_version": "1.5.0",
            "_view_count": null,
            "_view_module_version": "1.5.0",
            "box_style": "",
            "layout": "IPY_MODEL_3adb5b44e8c444cba847b8c5bdea4c52",
            "_model_module": "@jupyter-widgets/controls",
            "children": [
              "IPY_MODEL_1279403d90ae42ea8a4b78a7fd48bdad",
              "IPY_MODEL_e428097fceed4182a3187e279ad673de"
            ]
          }
        },
        "3adb5b44e8c444cba847b8c5bdea4c52": {
          "model_module": "@jupyter-widgets/base",
          "model_name": "LayoutModel",
          "model_module_version": "1.2.0",
          "state": {
            "_view_name": "LayoutView",
            "grid_template_rows": null,
            "right": null,
            "justify_content": null,
            "_view_module": "@jupyter-widgets/base",
            "overflow": null,
            "_model_module_version": "1.2.0",
            "_view_count": null,
            "flex_flow": null,
            "width": null,
            "min_width": null,
            "border": null,
            "align_items": null,
            "bottom": null,
            "_model_module": "@jupyter-widgets/base",
            "top": null,
            "grid_column": null,
            "overflow_y": null,
            "overflow_x": null,
            "grid_auto_flow": null,
            "grid_area": null,
            "grid_template_columns": null,
            "flex": null,
            "_model_name": "LayoutModel",
            "justify_items": null,
            "grid_row": null,
            "max_height": null,
            "align_content": null,
            "visibility": null,
            "align_self": null,
            "height": null,
            "min_height": null,
            "padding": null,
            "grid_auto_rows": null,
            "grid_gap": null,
            "max_width": null,
            "order": null,
            "_view_module_version": "1.2.0",
            "grid_template_areas": null,
            "object_position": null,
            "object_fit": null,
            "grid_auto_columns": null,
            "margin": null,
            "display": null,
            "left": null
          }
        },
        "1279403d90ae42ea8a4b78a7fd48bdad": {
          "model_module": "@jupyter-widgets/controls",
          "model_name": "FloatProgressModel",
          "model_module_version": "1.5.0",
          "state": {
            "_view_name": "ProgressView",
            "style": "IPY_MODEL_cb3bb2f0658a438fa3e6a0eec34605b2",
            "_dom_classes": [],
            "description": "",
            "_model_name": "FloatProgressModel",
            "bar_style": "success",
            "max": 1,
            "_view_module": "@jupyter-widgets/controls",
            "_model_module_version": "1.5.0",
            "value": 0,
            "_view_count": null,
            "_view_module_version": "1.5.0",
            "orientation": "horizontal",
            "min": 0,
            "description_tooltip": null,
            "_model_module": "@jupyter-widgets/controls",
            "layout": "IPY_MODEL_0b97c999a85446cfa125cb47a46bb568"
          }
        },
        "e428097fceed4182a3187e279ad673de": {
          "model_module": "@jupyter-widgets/controls",
          "model_name": "HTMLModel",
          "model_module_version": "1.5.0",
          "state": {
            "_view_name": "HTMLView",
            "style": "IPY_MODEL_f9edbd3822454330a998733610b79d78",
            "_dom_classes": [],
            "description": "",
            "_model_name": "HTMLModel",
            "placeholder": "​",
            "_view_module": "@jupyter-widgets/controls",
            "_model_module_version": "1.5.0",
            "value": " 0/? [00:00&lt;?, ?it/s]",
            "_view_count": null,
            "_view_module_version": "1.5.0",
            "description_tooltip": null,
            "_model_module": "@jupyter-widgets/controls",
            "layout": "IPY_MODEL_5dfac2a9e41746619e597a1587c04a4d"
          }
        },
        "cb3bb2f0658a438fa3e6a0eec34605b2": {
          "model_module": "@jupyter-widgets/controls",
          "model_name": "ProgressStyleModel",
          "model_module_version": "1.5.0",
          "state": {
            "_view_name": "StyleView",
            "_model_name": "ProgressStyleModel",
            "description_width": "initial",
            "_view_module": "@jupyter-widgets/base",
            "_model_module_version": "1.5.0",
            "_view_count": null,
            "_view_module_version": "1.2.0",
            "bar_color": null,
            "_model_module": "@jupyter-widgets/controls"
          }
        },
        "0b97c999a85446cfa125cb47a46bb568": {
          "model_module": "@jupyter-widgets/base",
          "model_name": "LayoutModel",
          "model_module_version": "1.2.0",
          "state": {
            "_view_name": "LayoutView",
            "grid_template_rows": null,
            "right": null,
            "justify_content": null,
            "_view_module": "@jupyter-widgets/base",
            "overflow": null,
            "_model_module_version": "1.2.0",
            "_view_count": null,
            "flex_flow": null,
            "width": null,
            "min_width": null,
            "border": null,
            "align_items": null,
            "bottom": null,
            "_model_module": "@jupyter-widgets/base",
            "top": null,
            "grid_column": null,
            "overflow_y": null,
            "overflow_x": null,
            "grid_auto_flow": null,
            "grid_area": null,
            "grid_template_columns": null,
            "flex": null,
            "_model_name": "LayoutModel",
            "justify_items": null,
            "grid_row": null,
            "max_height": null,
            "align_content": null,
            "visibility": null,
            "align_self": null,
            "height": null,
            "min_height": null,
            "padding": null,
            "grid_auto_rows": null,
            "grid_gap": null,
            "max_width": null,
            "order": null,
            "_view_module_version": "1.2.0",
            "grid_template_areas": null,
            "object_position": null,
            "object_fit": null,
            "grid_auto_columns": null,
            "margin": null,
            "display": null,
            "left": null
          }
        },
        "f9edbd3822454330a998733610b79d78": {
          "model_module": "@jupyter-widgets/controls",
          "model_name": "DescriptionStyleModel",
          "model_module_version": "1.5.0",
          "state": {
            "_view_name": "StyleView",
            "_model_name": "DescriptionStyleModel",
            "description_width": "",
            "_view_module": "@jupyter-widgets/base",
            "_model_module_version": "1.5.0",
            "_view_count": null,
            "_view_module_version": "1.2.0",
            "_model_module": "@jupyter-widgets/controls"
          }
        },
        "5dfac2a9e41746619e597a1587c04a4d": {
          "model_module": "@jupyter-widgets/base",
          "model_name": "LayoutModel",
          "model_module_version": "1.2.0",
          "state": {
            "_view_name": "LayoutView",
            "grid_template_rows": null,
            "right": null,
            "justify_content": null,
            "_view_module": "@jupyter-widgets/base",
            "overflow": null,
            "_model_module_version": "1.2.0",
            "_view_count": null,
            "flex_flow": null,
            "width": null,
            "min_width": null,
            "border": null,
            "align_items": null,
            "bottom": null,
            "_model_module": "@jupyter-widgets/base",
            "top": null,
            "grid_column": null,
            "overflow_y": null,
            "overflow_x": null,
            "grid_auto_flow": null,
            "grid_area": null,
            "grid_template_columns": null,
            "flex": null,
            "_model_name": "LayoutModel",
            "justify_items": null,
            "grid_row": null,
            "max_height": null,
            "align_content": null,
            "visibility": null,
            "align_self": null,
            "height": null,
            "min_height": null,
            "padding": null,
            "grid_auto_rows": null,
            "grid_gap": null,
            "max_width": null,
            "order": null,
            "_view_module_version": "1.2.0",
            "grid_template_areas": null,
            "object_position": null,
            "object_fit": null,
            "grid_auto_columns": null,
            "margin": null,
            "display": null,
            "left": null
          }
        },
        "9d31bdeef64e4a5082e96a9e22013ebc": {
          "model_module": "@jupyter-widgets/controls",
          "model_name": "HBoxModel",
          "model_module_version": "1.5.0",
          "state": {
            "_view_name": "HBoxView",
            "_dom_classes": [],
            "_model_name": "HBoxModel",
            "_view_module": "@jupyter-widgets/controls",
            "_model_module_version": "1.5.0",
            "_view_count": null,
            "_view_module_version": "1.5.0",
            "box_style": "",
            "layout": "IPY_MODEL_11d32d29571940b18e8598dadaa97556",
            "_model_module": "@jupyter-widgets/controls",
            "children": [
              "IPY_MODEL_df6ac49abe35484d86b0f315aafa36d4",
              "IPY_MODEL_acb9d94f9c9b4c73ba5888d0e36170cc"
            ]
          }
        },
        "11d32d29571940b18e8598dadaa97556": {
          "model_module": "@jupyter-widgets/base",
          "model_name": "LayoutModel",
          "model_module_version": "1.2.0",
          "state": {
            "_view_name": "LayoutView",
            "grid_template_rows": null,
            "right": null,
            "justify_content": null,
            "_view_module": "@jupyter-widgets/base",
            "overflow": null,
            "_model_module_version": "1.2.0",
            "_view_count": null,
            "flex_flow": null,
            "width": null,
            "min_width": null,
            "border": null,
            "align_items": null,
            "bottom": null,
            "_model_module": "@jupyter-widgets/base",
            "top": null,
            "grid_column": null,
            "overflow_y": null,
            "overflow_x": null,
            "grid_auto_flow": null,
            "grid_area": null,
            "grid_template_columns": null,
            "flex": null,
            "_model_name": "LayoutModel",
            "justify_items": null,
            "grid_row": null,
            "max_height": null,
            "align_content": null,
            "visibility": null,
            "align_self": null,
            "height": null,
            "min_height": null,
            "padding": null,
            "grid_auto_rows": null,
            "grid_gap": null,
            "max_width": null,
            "order": null,
            "_view_module_version": "1.2.0",
            "grid_template_areas": null,
            "object_position": null,
            "object_fit": null,
            "grid_auto_columns": null,
            "margin": null,
            "display": null,
            "left": null
          }
        },
        "df6ac49abe35484d86b0f315aafa36d4": {
          "model_module": "@jupyter-widgets/controls",
          "model_name": "FloatProgressModel",
          "model_module_version": "1.5.0",
          "state": {
            "_view_name": "ProgressView",
            "style": "IPY_MODEL_61c641b8e50e456ea745aec8ad77ff99",
            "_dom_classes": [],
            "description": "100%",
            "_model_name": "FloatProgressModel",
            "bar_style": "success",
            "max": 13241,
            "_view_module": "@jupyter-widgets/controls",
            "_model_module_version": "1.5.0",
            "value": 13241,
            "_view_count": null,
            "_view_module_version": "1.5.0",
            "orientation": "horizontal",
            "min": 0,
            "description_tooltip": null,
            "_model_module": "@jupyter-widgets/controls",
            "layout": "IPY_MODEL_06b652d7fed34d418fdcb6287cf76aa3"
          }
        },
        "acb9d94f9c9b4c73ba5888d0e36170cc": {
          "model_module": "@jupyter-widgets/controls",
          "model_name": "HTMLModel",
          "model_module_version": "1.5.0",
          "state": {
            "_view_name": "HTMLView",
            "style": "IPY_MODEL_c93ffabff8644794a3f2a6e6c1809d57",
            "_dom_classes": [],
            "description": "",
            "_model_name": "HTMLModel",
            "placeholder": "​",
            "_view_module": "@jupyter-widgets/controls",
            "_model_module_version": "1.5.0",
            "value": " 13241/13241 [05:11&lt;00:00, 42.48it/s]",
            "_view_count": null,
            "_view_module_version": "1.5.0",
            "description_tooltip": null,
            "_model_module": "@jupyter-widgets/controls",
            "layout": "IPY_MODEL_c38ddc7219fc407689fe70ea2d07e60b"
          }
        },
        "61c641b8e50e456ea745aec8ad77ff99": {
          "model_module": "@jupyter-widgets/controls",
          "model_name": "ProgressStyleModel",
          "model_module_version": "1.5.0",
          "state": {
            "_view_name": "StyleView",
            "_model_name": "ProgressStyleModel",
            "description_width": "initial",
            "_view_module": "@jupyter-widgets/base",
            "_model_module_version": "1.5.0",
            "_view_count": null,
            "_view_module_version": "1.2.0",
            "bar_color": null,
            "_model_module": "@jupyter-widgets/controls"
          }
        },
        "06b652d7fed34d418fdcb6287cf76aa3": {
          "model_module": "@jupyter-widgets/base",
          "model_name": "LayoutModel",
          "model_module_version": "1.2.0",
          "state": {
            "_view_name": "LayoutView",
            "grid_template_rows": null,
            "right": null,
            "justify_content": null,
            "_view_module": "@jupyter-widgets/base",
            "overflow": null,
            "_model_module_version": "1.2.0",
            "_view_count": null,
            "flex_flow": null,
            "width": null,
            "min_width": null,
            "border": null,
            "align_items": null,
            "bottom": null,
            "_model_module": "@jupyter-widgets/base",
            "top": null,
            "grid_column": null,
            "overflow_y": null,
            "overflow_x": null,
            "grid_auto_flow": null,
            "grid_area": null,
            "grid_template_columns": null,
            "flex": null,
            "_model_name": "LayoutModel",
            "justify_items": null,
            "grid_row": null,
            "max_height": null,
            "align_content": null,
            "visibility": null,
            "align_self": null,
            "height": null,
            "min_height": null,
            "padding": null,
            "grid_auto_rows": null,
            "grid_gap": null,
            "max_width": null,
            "order": null,
            "_view_module_version": "1.2.0",
            "grid_template_areas": null,
            "object_position": null,
            "object_fit": null,
            "grid_auto_columns": null,
            "margin": null,
            "display": null,
            "left": null
          }
        },
        "c93ffabff8644794a3f2a6e6c1809d57": {
          "model_module": "@jupyter-widgets/controls",
          "model_name": "DescriptionStyleModel",
          "model_module_version": "1.5.0",
          "state": {
            "_view_name": "StyleView",
            "_model_name": "DescriptionStyleModel",
            "description_width": "",
            "_view_module": "@jupyter-widgets/base",
            "_model_module_version": "1.5.0",
            "_view_count": null,
            "_view_module_version": "1.2.0",
            "_model_module": "@jupyter-widgets/controls"
          }
        },
        "c38ddc7219fc407689fe70ea2d07e60b": {
          "model_module": "@jupyter-widgets/base",
          "model_name": "LayoutModel",
          "model_module_version": "1.2.0",
          "state": {
            "_view_name": "LayoutView",
            "grid_template_rows": null,
            "right": null,
            "justify_content": null,
            "_view_module": "@jupyter-widgets/base",
            "overflow": null,
            "_model_module_version": "1.2.0",
            "_view_count": null,
            "flex_flow": null,
            "width": null,
            "min_width": null,
            "border": null,
            "align_items": null,
            "bottom": null,
            "_model_module": "@jupyter-widgets/base",
            "top": null,
            "grid_column": null,
            "overflow_y": null,
            "overflow_x": null,
            "grid_auto_flow": null,
            "grid_area": null,
            "grid_template_columns": null,
            "flex": null,
            "_model_name": "LayoutModel",
            "justify_items": null,
            "grid_row": null,
            "max_height": null,
            "align_content": null,
            "visibility": null,
            "align_self": null,
            "height": null,
            "min_height": null,
            "padding": null,
            "grid_auto_rows": null,
            "grid_gap": null,
            "max_width": null,
            "order": null,
            "_view_module_version": "1.2.0",
            "grid_template_areas": null,
            "object_position": null,
            "object_fit": null,
            "grid_auto_columns": null,
            "margin": null,
            "display": null,
            "left": null
          }
        },
        "630c9350dde14e4fb3dd8f9b70ce61e1": {
          "model_module": "@jupyter-widgets/controls",
          "model_name": "HBoxModel",
          "model_module_version": "1.5.0",
          "state": {
            "_view_name": "HBoxView",
            "_dom_classes": [],
            "_model_name": "HBoxModel",
            "_view_module": "@jupyter-widgets/controls",
            "_model_module_version": "1.5.0",
            "_view_count": null,
            "_view_module_version": "1.5.0",
            "box_style": "",
            "layout": "IPY_MODEL_2c0be148a3c04dfeaca30725d7177fd8",
            "_model_module": "@jupyter-widgets/controls",
            "children": [
              "IPY_MODEL_c3257b12ed214ec4a52017564b235d31",
              "IPY_MODEL_401becc2da694f99a1a12ad4cb2d2712"
            ]
          }
        },
        "2c0be148a3c04dfeaca30725d7177fd8": {
          "model_module": "@jupyter-widgets/base",
          "model_name": "LayoutModel",
          "model_module_version": "1.2.0",
          "state": {
            "_view_name": "LayoutView",
            "grid_template_rows": null,
            "right": null,
            "justify_content": null,
            "_view_module": "@jupyter-widgets/base",
            "overflow": null,
            "_model_module_version": "1.2.0",
            "_view_count": null,
            "flex_flow": null,
            "width": null,
            "min_width": null,
            "border": null,
            "align_items": null,
            "bottom": null,
            "_model_module": "@jupyter-widgets/base",
            "top": null,
            "grid_column": null,
            "overflow_y": null,
            "overflow_x": null,
            "grid_auto_flow": null,
            "grid_area": null,
            "grid_template_columns": null,
            "flex": null,
            "_model_name": "LayoutModel",
            "justify_items": null,
            "grid_row": null,
            "max_height": null,
            "align_content": null,
            "visibility": null,
            "align_self": null,
            "height": null,
            "min_height": null,
            "padding": null,
            "grid_auto_rows": null,
            "grid_gap": null,
            "max_width": null,
            "order": null,
            "_view_module_version": "1.2.0",
            "grid_template_areas": null,
            "object_position": null,
            "object_fit": null,
            "grid_auto_columns": null,
            "margin": null,
            "display": null,
            "left": null
          }
        },
        "c3257b12ed214ec4a52017564b235d31": {
          "model_module": "@jupyter-widgets/controls",
          "model_name": "FloatProgressModel",
          "model_module_version": "1.5.0",
          "state": {
            "_view_name": "ProgressView",
            "style": "IPY_MODEL_9b7caa998c1a4622916cf94b1d8ad87d",
            "_dom_classes": [],
            "description": "100%",
            "_model_name": "FloatProgressModel",
            "bar_style": "success",
            "max": 1098,
            "_view_module": "@jupyter-widgets/controls",
            "_model_module_version": "1.5.0",
            "value": 1098,
            "_view_count": null,
            "_view_module_version": "1.5.0",
            "orientation": "horizontal",
            "min": 0,
            "description_tooltip": null,
            "_model_module": "@jupyter-widgets/controls",
            "layout": "IPY_MODEL_700933439f194b74a07402334bcb08a1"
          }
        },
        "401becc2da694f99a1a12ad4cb2d2712": {
          "model_module": "@jupyter-widgets/controls",
          "model_name": "HTMLModel",
          "model_module_version": "1.5.0",
          "state": {
            "_view_name": "HTMLView",
            "style": "IPY_MODEL_63d144236bc44e329108698b2f9d975d",
            "_dom_classes": [],
            "description": "",
            "_model_name": "HTMLModel",
            "placeholder": "​",
            "_view_module": "@jupyter-widgets/controls",
            "_model_module_version": "1.5.0",
            "value": " 1098/1098 [01:12&lt;00:00, 15.23it/s]",
            "_view_count": null,
            "_view_module_version": "1.5.0",
            "description_tooltip": null,
            "_model_module": "@jupyter-widgets/controls",
            "layout": "IPY_MODEL_636bd7287a8e42b79b545db89049b214"
          }
        },
        "9b7caa998c1a4622916cf94b1d8ad87d": {
          "model_module": "@jupyter-widgets/controls",
          "model_name": "ProgressStyleModel",
          "model_module_version": "1.5.0",
          "state": {
            "_view_name": "StyleView",
            "_model_name": "ProgressStyleModel",
            "description_width": "initial",
            "_view_module": "@jupyter-widgets/base",
            "_model_module_version": "1.5.0",
            "_view_count": null,
            "_view_module_version": "1.2.0",
            "bar_color": null,
            "_model_module": "@jupyter-widgets/controls"
          }
        },
        "700933439f194b74a07402334bcb08a1": {
          "model_module": "@jupyter-widgets/base",
          "model_name": "LayoutModel",
          "model_module_version": "1.2.0",
          "state": {
            "_view_name": "LayoutView",
            "grid_template_rows": null,
            "right": null,
            "justify_content": null,
            "_view_module": "@jupyter-widgets/base",
            "overflow": null,
            "_model_module_version": "1.2.0",
            "_view_count": null,
            "flex_flow": null,
            "width": null,
            "min_width": null,
            "border": null,
            "align_items": null,
            "bottom": null,
            "_model_module": "@jupyter-widgets/base",
            "top": null,
            "grid_column": null,
            "overflow_y": null,
            "overflow_x": null,
            "grid_auto_flow": null,
            "grid_area": null,
            "grid_template_columns": null,
            "flex": null,
            "_model_name": "LayoutModel",
            "justify_items": null,
            "grid_row": null,
            "max_height": null,
            "align_content": null,
            "visibility": null,
            "align_self": null,
            "height": null,
            "min_height": null,
            "padding": null,
            "grid_auto_rows": null,
            "grid_gap": null,
            "max_width": null,
            "order": null,
            "_view_module_version": "1.2.0",
            "grid_template_areas": null,
            "object_position": null,
            "object_fit": null,
            "grid_auto_columns": null,
            "margin": null,
            "display": null,
            "left": null
          }
        },
        "63d144236bc44e329108698b2f9d975d": {
          "model_module": "@jupyter-widgets/controls",
          "model_name": "DescriptionStyleModel",
          "model_module_version": "1.5.0",
          "state": {
            "_view_name": "StyleView",
            "_model_name": "DescriptionStyleModel",
            "description_width": "",
            "_view_module": "@jupyter-widgets/base",
            "_model_module_version": "1.5.0",
            "_view_count": null,
            "_view_module_version": "1.2.0",
            "_model_module": "@jupyter-widgets/controls"
          }
        },
        "636bd7287a8e42b79b545db89049b214": {
          "model_module": "@jupyter-widgets/base",
          "model_name": "LayoutModel",
          "model_module_version": "1.2.0",
          "state": {
            "_view_name": "LayoutView",
            "grid_template_rows": null,
            "right": null,
            "justify_content": null,
            "_view_module": "@jupyter-widgets/base",
            "overflow": null,
            "_model_module_version": "1.2.0",
            "_view_count": null,
            "flex_flow": null,
            "width": null,
            "min_width": null,
            "border": null,
            "align_items": null,
            "bottom": null,
            "_model_module": "@jupyter-widgets/base",
            "top": null,
            "grid_column": null,
            "overflow_y": null,
            "overflow_x": null,
            "grid_auto_flow": null,
            "grid_area": null,
            "grid_template_columns": null,
            "flex": null,
            "_model_name": "LayoutModel",
            "justify_items": null,
            "grid_row": null,
            "max_height": null,
            "align_content": null,
            "visibility": null,
            "align_self": null,
            "height": null,
            "min_height": null,
            "padding": null,
            "grid_auto_rows": null,
            "grid_gap": null,
            "max_width": null,
            "order": null,
            "_view_module_version": "1.2.0",
            "grid_template_areas": null,
            "object_position": null,
            "object_fit": null,
            "grid_auto_columns": null,
            "margin": null,
            "display": null,
            "left": null
          }
        }
      }
    }
  },
  "cells": [
    {
      "cell_type": "code",
      "metadata": {
        "colab": {
          "base_uri": "https://localhost:8080/"
        },
        "id": "PqVkSQxM4Ybb",
        "outputId": "e0ca306a-05c6-4e5f-9cb5-a2c6e63aee16"
      },
      "source": [
        "from google.colab import drive\n",
        "drive.mount('/content/drive')"
      ],
      "execution_count": null,
      "outputs": [
        {
          "output_type": "stream",
          "text": [
            "Mounted at /content/drive\n"
          ],
          "name": "stdout"
        }
      ]
    },
    {
      "cell_type": "markdown",
      "metadata": {
        "id": "TW3vQQrkTPFW"
      },
      "source": [
        "## Importing Libraries"
      ]
    },
    {
      "cell_type": "code",
      "metadata": {
        "id": "nanbfVKTeJbj",
        "colab": {
          "base_uri": "https://localhost:8080/"
        },
        "outputId": "25ba6920-7b8b-4fc4-e802-e6a57325eb51"
      },
      "source": [
        "!pip install contractions\n",
        "!pip install bert-tensorflow==1.0.1\n",
        "!pip install tqdm\n",
        "!pip install tensorflow_hub"
      ],
      "execution_count": null,
      "outputs": [
        {
          "output_type": "stream",
          "text": [
            "Collecting contractions\n",
            "  Downloading contractions-0.0.52-py2.py3-none-any.whl (7.2 kB)\n",
            "Collecting textsearch>=0.0.21\n",
            "  Downloading textsearch-0.0.21-py2.py3-none-any.whl (7.5 kB)\n",
            "Collecting pyahocorasick\n",
            "  Downloading pyahocorasick-1.4.2.tar.gz (321 kB)\n",
            "\u001b[K     |████████████████████████████████| 321 kB 37.4 MB/s \n",
            "\u001b[?25hCollecting anyascii\n",
            "  Downloading anyascii-0.2.0-py3-none-any.whl (283 kB)\n",
            "\u001b[K     |████████████████████████████████| 283 kB 56.3 MB/s \n",
            "\u001b[?25hBuilding wheels for collected packages: pyahocorasick\n",
            "  Building wheel for pyahocorasick (setup.py) ... \u001b[?25l\u001b[?25hdone\n",
            "  Created wheel for pyahocorasick: filename=pyahocorasick-1.4.2-cp37-cp37m-linux_x86_64.whl size=85454 sha256=4a7249c85ebf8f7554beb210aae8bb6a5fbddcf7b35793362727f7e5af64f12a\n",
            "  Stored in directory: /root/.cache/pip/wheels/25/19/a6/8f363d9939162782bb8439d886469756271abc01f76fbd790f\n",
            "Successfully built pyahocorasick\n",
            "Installing collected packages: pyahocorasick, anyascii, textsearch, contractions\n",
            "Successfully installed anyascii-0.2.0 contractions-0.0.52 pyahocorasick-1.4.2 textsearch-0.0.21\n",
            "Collecting bert-tensorflow==1.0.1\n",
            "  Downloading bert_tensorflow-1.0.1-py2.py3-none-any.whl (67 kB)\n",
            "\u001b[K     |████████████████████████████████| 67 kB 6.0 MB/s \n",
            "\u001b[?25hRequirement already satisfied: six in /usr/local/lib/python3.7/dist-packages (from bert-tensorflow==1.0.1) (1.15.0)\n",
            "Installing collected packages: bert-tensorflow\n",
            "Successfully installed bert-tensorflow-1.0.1\n",
            "Requirement already satisfied: tqdm in /usr/local/lib/python3.7/dist-packages (4.41.1)\n",
            "Requirement already satisfied: tensorflow_hub in /usr/local/lib/python3.7/dist-packages (0.12.0)\n",
            "Requirement already satisfied: protobuf>=3.8.0 in /usr/local/lib/python3.7/dist-packages (from tensorflow_hub) (3.17.3)\n",
            "Requirement already satisfied: numpy>=1.12.0 in /usr/local/lib/python3.7/dist-packages (from tensorflow_hub) (1.19.5)\n",
            "Requirement already satisfied: six>=1.9 in /usr/local/lib/python3.7/dist-packages (from protobuf>=3.8.0->tensorflow_hub) (1.15.0)\n"
          ],
          "name": "stdout"
        }
      ]
    },
    {
      "cell_type": "code",
      "metadata": {
        "id": "knut2AuCLSRC",
        "colab": {
          "base_uri": "https://localhost:8080/"
        },
        "outputId": "327de751-f788-404d-d3dd-882bc25a8a49"
      },
      "source": [
        "!pip install tensorflow==1.15\n",
        "!pip install \"tensorflow_hub>=0.6.0\"\n",
        "!pip3 install tensorflow_text==1.15"
      ],
      "execution_count": null,
      "outputs": [
        {
          "output_type": "stream",
          "text": [
            "Collecting tensorflow==1.15\n",
            "  Downloading tensorflow-1.15.0-cp37-cp37m-manylinux2010_x86_64.whl (412.3 MB)\n",
            "\u001b[K     |████████████████████████████████| 412.3 MB 13 kB/s \n",
            "\u001b[?25hRequirement already satisfied: keras-preprocessing>=1.0.5 in /usr/local/lib/python3.7/dist-packages (from tensorflow==1.15) (1.1.2)\n",
            "Requirement already satisfied: google-pasta>=0.1.6 in /usr/local/lib/python3.7/dist-packages (from tensorflow==1.15) (0.2.0)\n",
            "Requirement already satisfied: six>=1.10.0 in /usr/local/lib/python3.7/dist-packages (from tensorflow==1.15) (1.15.0)\n",
            "Requirement already satisfied: wrapt>=1.11.1 in /usr/local/lib/python3.7/dist-packages (from tensorflow==1.15) (1.12.1)\n",
            "Collecting gast==0.2.2\n",
            "  Downloading gast-0.2.2.tar.gz (10 kB)\n",
            "Requirement already satisfied: termcolor>=1.1.0 in /usr/local/lib/python3.7/dist-packages (from tensorflow==1.15) (1.1.0)\n",
            "Collecting tensorboard<1.16.0,>=1.15.0\n",
            "  Downloading tensorboard-1.15.0-py3-none-any.whl (3.8 MB)\n",
            "\u001b[K     |████████████████████████████████| 3.8 MB 32.0 MB/s \n",
            "\u001b[?25hRequirement already satisfied: wheel>=0.26 in /usr/local/lib/python3.7/dist-packages (from tensorflow==1.15) (0.36.2)\n",
            "Requirement already satisfied: protobuf>=3.6.1 in /usr/local/lib/python3.7/dist-packages (from tensorflow==1.15) (3.17.3)\n",
            "Requirement already satisfied: absl-py>=0.7.0 in /usr/local/lib/python3.7/dist-packages (from tensorflow==1.15) (0.12.0)\n",
            "Requirement already satisfied: numpy<2.0,>=1.16.0 in /usr/local/lib/python3.7/dist-packages (from tensorflow==1.15) (1.19.5)\n",
            "Requirement already satisfied: opt-einsum>=2.3.2 in /usr/local/lib/python3.7/dist-packages (from tensorflow==1.15) (3.3.0)\n",
            "Requirement already satisfied: astor>=0.6.0 in /usr/local/lib/python3.7/dist-packages (from tensorflow==1.15) (0.8.1)\n",
            "Requirement already satisfied: grpcio>=1.8.6 in /usr/local/lib/python3.7/dist-packages (from tensorflow==1.15) (1.34.1)\n",
            "Collecting tensorflow-estimator==1.15.1\n",
            "  Downloading tensorflow_estimator-1.15.1-py2.py3-none-any.whl (503 kB)\n",
            "\u001b[K     |████████████████████████████████| 503 kB 63.2 MB/s \n",
            "\u001b[?25hCollecting keras-applications>=1.0.8\n",
            "  Downloading Keras_Applications-1.0.8-py3-none-any.whl (50 kB)\n",
            "\u001b[K     |████████████████████████████████| 50 kB 7.1 MB/s \n",
            "\u001b[?25hRequirement already satisfied: h5py in /usr/local/lib/python3.7/dist-packages (from keras-applications>=1.0.8->tensorflow==1.15) (3.1.0)\n",
            "Requirement already satisfied: werkzeug>=0.11.15 in /usr/local/lib/python3.7/dist-packages (from tensorboard<1.16.0,>=1.15.0->tensorflow==1.15) (1.0.1)\n",
            "Requirement already satisfied: setuptools>=41.0.0 in /usr/local/lib/python3.7/dist-packages (from tensorboard<1.16.0,>=1.15.0->tensorflow==1.15) (57.2.0)\n",
            "Requirement already satisfied: markdown>=2.6.8 in /usr/local/lib/python3.7/dist-packages (from tensorboard<1.16.0,>=1.15.0->tensorflow==1.15) (3.3.4)\n",
            "Requirement already satisfied: importlib-metadata in /usr/local/lib/python3.7/dist-packages (from markdown>=2.6.8->tensorboard<1.16.0,>=1.15.0->tensorflow==1.15) (4.6.1)\n",
            "Requirement already satisfied: cached-property in /usr/local/lib/python3.7/dist-packages (from h5py->keras-applications>=1.0.8->tensorflow==1.15) (1.5.2)\n",
            "Requirement already satisfied: typing-extensions>=3.6.4 in /usr/local/lib/python3.7/dist-packages (from importlib-metadata->markdown>=2.6.8->tensorboard<1.16.0,>=1.15.0->tensorflow==1.15) (3.7.4.3)\n",
            "Requirement already satisfied: zipp>=0.5 in /usr/local/lib/python3.7/dist-packages (from importlib-metadata->markdown>=2.6.8->tensorboard<1.16.0,>=1.15.0->tensorflow==1.15) (3.5.0)\n",
            "Building wheels for collected packages: gast\n",
            "  Building wheel for gast (setup.py) ... \u001b[?25l\u001b[?25hdone\n",
            "  Created wheel for gast: filename=gast-0.2.2-py3-none-any.whl size=7553 sha256=8feb8ca55c1e7c32ea664f13ac33af7a2a6fccebf9a5c5147304d14616f51cd2\n",
            "  Stored in directory: /root/.cache/pip/wheels/21/7f/02/420f32a803f7d0967b48dd823da3f558c5166991bfd204eef3\n",
            "Successfully built gast\n",
            "Installing collected packages: tensorflow-estimator, tensorboard, keras-applications, gast, tensorflow\n",
            "  Attempting uninstall: tensorflow-estimator\n",
            "    Found existing installation: tensorflow-estimator 2.5.0\n",
            "    Uninstalling tensorflow-estimator-2.5.0:\n",
            "      Successfully uninstalled tensorflow-estimator-2.5.0\n",
            "  Attempting uninstall: tensorboard\n",
            "    Found existing installation: tensorboard 2.5.0\n",
            "    Uninstalling tensorboard-2.5.0:\n",
            "      Successfully uninstalled tensorboard-2.5.0\n",
            "  Attempting uninstall: gast\n",
            "    Found existing installation: gast 0.4.0\n",
            "    Uninstalling gast-0.4.0:\n",
            "      Successfully uninstalled gast-0.4.0\n",
            "  Attempting uninstall: tensorflow\n",
            "    Found existing installation: tensorflow 2.5.0\n",
            "    Uninstalling tensorflow-2.5.0:\n",
            "      Successfully uninstalled tensorflow-2.5.0\n",
            "\u001b[31mERROR: pip's dependency resolver does not currently take into account all the packages that are installed. This behaviour is the source of the following dependency conflicts.\n",
            "tensorflow-probability 0.13.0 requires gast>=0.3.2, but you have gast 0.2.2 which is incompatible.\n",
            "kapre 0.3.5 requires tensorflow>=2.0.0, but you have tensorflow 1.15.0 which is incompatible.\u001b[0m\n",
            "Successfully installed gast-0.2.2 keras-applications-1.0.8 tensorboard-1.15.0 tensorflow-1.15.0 tensorflow-estimator-1.15.1\n",
            "Requirement already satisfied: tensorflow_hub>=0.6.0 in /usr/local/lib/python3.7/dist-packages (0.12.0)\n",
            "Requirement already satisfied: protobuf>=3.8.0 in /usr/local/lib/python3.7/dist-packages (from tensorflow_hub>=0.6.0) (3.17.3)\n",
            "Requirement already satisfied: numpy>=1.12.0 in /usr/local/lib/python3.7/dist-packages (from tensorflow_hub>=0.6.0) (1.19.5)\n",
            "Requirement already satisfied: six>=1.9 in /usr/local/lib/python3.7/dist-packages (from protobuf>=3.8.0->tensorflow_hub>=0.6.0) (1.15.0)\n",
            "Collecting tensorflow_text==1.15\n",
            "  Downloading tensorflow_text-1.15.0-cp37-cp37m-manylinux1_x86_64.whl (9.1 MB)\n",
            "\u001b[K     |████████████████████████████████| 9.1 MB 21.2 MB/s \n",
            "\u001b[?25hRequirement already satisfied: tensorflow<1.16,>=1.15.0 in /usr/local/lib/python3.7/dist-packages (from tensorflow_text==1.15) (1.15.0)\n",
            "Requirement already satisfied: wrapt>=1.11.1 in /usr/local/lib/python3.7/dist-packages (from tensorflow<1.16,>=1.15.0->tensorflow_text==1.15) (1.12.1)\n",
            "Requirement already satisfied: astor>=0.6.0 in /usr/local/lib/python3.7/dist-packages (from tensorflow<1.16,>=1.15.0->tensorflow_text==1.15) (0.8.1)\n",
            "Requirement already satisfied: protobuf>=3.6.1 in /usr/local/lib/python3.7/dist-packages (from tensorflow<1.16,>=1.15.0->tensorflow_text==1.15) (3.17.3)\n",
            "Requirement already satisfied: keras-preprocessing>=1.0.5 in /usr/local/lib/python3.7/dist-packages (from tensorflow<1.16,>=1.15.0->tensorflow_text==1.15) (1.1.2)\n",
            "Requirement already satisfied: termcolor>=1.1.0 in /usr/local/lib/python3.7/dist-packages (from tensorflow<1.16,>=1.15.0->tensorflow_text==1.15) (1.1.0)\n",
            "Requirement already satisfied: gast==0.2.2 in /usr/local/lib/python3.7/dist-packages (from tensorflow<1.16,>=1.15.0->tensorflow_text==1.15) (0.2.2)\n",
            "Requirement already satisfied: numpy<2.0,>=1.16.0 in /usr/local/lib/python3.7/dist-packages (from tensorflow<1.16,>=1.15.0->tensorflow_text==1.15) (1.19.5)\n",
            "Requirement already satisfied: wheel>=0.26 in /usr/local/lib/python3.7/dist-packages (from tensorflow<1.16,>=1.15.0->tensorflow_text==1.15) (0.36.2)\n",
            "Requirement already satisfied: tensorflow-estimator==1.15.1 in /usr/local/lib/python3.7/dist-packages (from tensorflow<1.16,>=1.15.0->tensorflow_text==1.15) (1.15.1)\n",
            "Requirement already satisfied: keras-applications>=1.0.8 in /usr/local/lib/python3.7/dist-packages (from tensorflow<1.16,>=1.15.0->tensorflow_text==1.15) (1.0.8)\n",
            "Requirement already satisfied: google-pasta>=0.1.6 in /usr/local/lib/python3.7/dist-packages (from tensorflow<1.16,>=1.15.0->tensorflow_text==1.15) (0.2.0)\n",
            "Requirement already satisfied: opt-einsum>=2.3.2 in /usr/local/lib/python3.7/dist-packages (from tensorflow<1.16,>=1.15.0->tensorflow_text==1.15) (3.3.0)\n",
            "Requirement already satisfied: six>=1.10.0 in /usr/local/lib/python3.7/dist-packages (from tensorflow<1.16,>=1.15.0->tensorflow_text==1.15) (1.15.0)\n",
            "Requirement already satisfied: absl-py>=0.7.0 in /usr/local/lib/python3.7/dist-packages (from tensorflow<1.16,>=1.15.0->tensorflow_text==1.15) (0.12.0)\n",
            "Requirement already satisfied: grpcio>=1.8.6 in /usr/local/lib/python3.7/dist-packages (from tensorflow<1.16,>=1.15.0->tensorflow_text==1.15) (1.34.1)\n",
            "Requirement already satisfied: tensorboard<1.16.0,>=1.15.0 in /usr/local/lib/python3.7/dist-packages (from tensorflow<1.16,>=1.15.0->tensorflow_text==1.15) (1.15.0)\n",
            "Requirement already satisfied: h5py in /usr/local/lib/python3.7/dist-packages (from keras-applications>=1.0.8->tensorflow<1.16,>=1.15.0->tensorflow_text==1.15) (3.1.0)\n",
            "Requirement already satisfied: werkzeug>=0.11.15 in /usr/local/lib/python3.7/dist-packages (from tensorboard<1.16.0,>=1.15.0->tensorflow<1.16,>=1.15.0->tensorflow_text==1.15) (1.0.1)\n",
            "Requirement already satisfied: markdown>=2.6.8 in /usr/local/lib/python3.7/dist-packages (from tensorboard<1.16.0,>=1.15.0->tensorflow<1.16,>=1.15.0->tensorflow_text==1.15) (3.3.4)\n",
            "Requirement already satisfied: setuptools>=41.0.0 in /usr/local/lib/python3.7/dist-packages (from tensorboard<1.16.0,>=1.15.0->tensorflow<1.16,>=1.15.0->tensorflow_text==1.15) (57.2.0)\n",
            "Requirement already satisfied: importlib-metadata in /usr/local/lib/python3.7/dist-packages (from markdown>=2.6.8->tensorboard<1.16.0,>=1.15.0->tensorflow<1.16,>=1.15.0->tensorflow_text==1.15) (4.6.1)\n",
            "Requirement already satisfied: cached-property in /usr/local/lib/python3.7/dist-packages (from h5py->keras-applications>=1.0.8->tensorflow<1.16,>=1.15.0->tensorflow_text==1.15) (1.5.2)\n",
            "Requirement already satisfied: typing-extensions>=3.6.4 in /usr/local/lib/python3.7/dist-packages (from importlib-metadata->markdown>=2.6.8->tensorboard<1.16.0,>=1.15.0->tensorflow<1.16,>=1.15.0->tensorflow_text==1.15) (3.7.4.3)\n",
            "Requirement already satisfied: zipp>=0.5 in /usr/local/lib/python3.7/dist-packages (from importlib-metadata->markdown>=2.6.8->tensorboard<1.16.0,>=1.15.0->tensorflow<1.16,>=1.15.0->tensorflow_text==1.15) (3.5.0)\n",
            "Installing collected packages: tensorflow-text\n",
            "Successfully installed tensorflow-text-1.15.0\n"
          ],
          "name": "stdout"
        }
      ]
    },
    {
      "cell_type": "code",
      "metadata": {
        "id": "KvGrXi53EaO6"
      },
      "source": [
        "import pandas as pd\n",
        "import numpy as np\n",
        "import seaborn as sns\n",
        "import matplotlib.pyplot as plt\n",
        "import tensorflow as tf\n",
        "import tensorflow_hub as hub\n",
        "import cv2\n",
        "import os\n",
        "from tensorflow.keras.callbacks import EarlyStopping, ModelCheckpoint\n",
        "import tqdm\n",
        "from tensorflow.python.keras import Sequential\n",
        "from tensorflow.keras import layers, optimizers\n",
        "from bert.tokenization import FullTokenizer\n",
        "\n",
        "# Params for bert model and tokenization\n",
        "bert_path = \"https://tfhub.dev/google/bert_uncased_L-12_H-768_A-12/1\""
      ],
      "execution_count": null,
      "outputs": []
    },
    {
      "cell_type": "code",
      "metadata": {
        "id": "BaYHpHg_Ntaz"
      },
      "source": [
        "import random\n",
        "np.random.seed(42)\n",
        "tf.set_random_seed(42)"
      ],
      "execution_count": null,
      "outputs": []
    },
    {
      "cell_type": "code",
      "metadata": {
        "id": "Wb204iXwHSMO"
      },
      "source": [
        "def get_df(file):\n",
        "    return pd.read_csv(file, sep='\\t', error_bad_lines= False)"
      ],
      "execution_count": null,
      "outputs": []
    },
    {
      "cell_type": "code",
      "metadata": {
        "id": "7Gd87y3KFFpQ"
      },
      "source": [
        "train_df = get_df('/content/drive/MyDrive/BTP/posts.txt')\n",
        "test_df = get_df('/content/drive/MyDrive/BTP/posts_groundtruth.txt')"
      ],
      "execution_count": null,
      "outputs": []
    },
    {
      "cell_type": "markdown",
      "metadata": {
        "id": "mHRLuubpTYX-"
      },
      "source": [
        "## Data Visualization"
      ]
    },
    {
      "cell_type": "code",
      "metadata": {
        "id": "iOwUB6ZmGiZG",
        "colab": {
          "base_uri": "https://localhost:8080/",
          "height": 419
        },
        "outputId": "cd45c4c9-00d5-4732-e5a6-0795c8f91c9b"
      },
      "source": [
        "train_df"
      ],
      "execution_count": null,
      "outputs": [
        {
          "output_type": "execute_result",
          "data": {
            "text/html": [
              "<div>\n",
              "<style scoped>\n",
              "    .dataframe tbody tr th:only-of-type {\n",
              "        vertical-align: middle;\n",
              "    }\n",
              "\n",
              "    .dataframe tbody tr th {\n",
              "        vertical-align: top;\n",
              "    }\n",
              "\n",
              "    .dataframe thead th {\n",
              "        text-align: right;\n",
              "    }\n",
              "</style>\n",
              "<table border=\"1\" class=\"dataframe\">\n",
              "  <thead>\n",
              "    <tr style=\"text-align: right;\">\n",
              "      <th></th>\n",
              "      <th>post_id</th>\n",
              "      <th>post_text</th>\n",
              "      <th>user_id</th>\n",
              "      <th>image_id(s)</th>\n",
              "      <th>username</th>\n",
              "      <th>timestamp</th>\n",
              "      <th>label</th>\n",
              "    </tr>\n",
              "  </thead>\n",
              "  <tbody>\n",
              "    <tr>\n",
              "      <th>0</th>\n",
              "      <td>324597532548276224</td>\n",
              "      <td>Don't need feds to solve the #bostonbombing wh...</td>\n",
              "      <td>886672620</td>\n",
              "      <td>boston_fake_03,boston_fake_35</td>\n",
              "      <td>SantaCruzShred</td>\n",
              "      <td>Wed Apr 17 18:57:37 +0000 2013</td>\n",
              "      <td>fake</td>\n",
              "    </tr>\n",
              "    <tr>\n",
              "      <th>1</th>\n",
              "      <td>325145334739267584</td>\n",
              "      <td>PIC: Comparison of #Boston suspect Sunil Tripa...</td>\n",
              "      <td>21992286</td>\n",
              "      <td>boston_fake_23</td>\n",
              "      <td>Oscar_Wang</td>\n",
              "      <td>Fri Apr 19 07:14:23 +0000 2013</td>\n",
              "      <td>fake</td>\n",
              "    </tr>\n",
              "    <tr>\n",
              "      <th>2</th>\n",
              "      <td>325152091423248385</td>\n",
              "      <td>I'm not completely convinced that it's this Su...</td>\n",
              "      <td>16428755</td>\n",
              "      <td>boston_fake_34</td>\n",
              "      <td>jamwil</td>\n",
              "      <td>Fri Apr 19 07:41:14 +0000 2013</td>\n",
              "      <td>fake</td>\n",
              "    </tr>\n",
              "    <tr>\n",
              "      <th>3</th>\n",
              "      <td>324554646976868352</td>\n",
              "      <td>Brutal lo que se puede conseguir en colaboraci...</td>\n",
              "      <td>303138574</td>\n",
              "      <td>boston_fake_03,boston_fake_35</td>\n",
              "      <td>rubenson80</td>\n",
              "      <td>Wed Apr 17 16:07:12 +0000 2013</td>\n",
              "      <td>fake</td>\n",
              "    </tr>\n",
              "    <tr>\n",
              "      <th>4</th>\n",
              "      <td>324315545572896768</td>\n",
              "      <td>4chan and the bombing. just throwing it out th...</td>\n",
              "      <td>180460772</td>\n",
              "      <td>boston_fake_15</td>\n",
              "      <td>Slimlenny</td>\n",
              "      <td>Wed Apr 17 00:17:06 +0000 2013</td>\n",
              "      <td>fake</td>\n",
              "    </tr>\n",
              "    <tr>\n",
              "      <th>...</th>\n",
              "      <td>...</td>\n",
              "      <td>...</td>\n",
              "      <td>...</td>\n",
              "      <td>...</td>\n",
              "      <td>...</td>\n",
              "      <td>...</td>\n",
              "      <td>...</td>\n",
              "    </tr>\n",
              "    <tr>\n",
              "      <th>15624</th>\n",
              "      <td>578433150071775232</td>\n",
              "      <td>Un présentateur de la ZDF confesse avoir truqu...</td>\n",
              "      <td>257551211</td>\n",
              "      <td>varoufakis_1</td>\n",
              "      <td>Cdt_Sylvestre</td>\n",
              "      <td>Thu Mar 19 05:49:44 +0000 2015</td>\n",
              "      <td>fake</td>\n",
              "    </tr>\n",
              "    <tr>\n",
              "      <th>15625</th>\n",
              "      <td>578433646597656576</td>\n",
              "      <td>Oh les kleine menteurs \\\"@CorineBarella: Un pr...</td>\n",
              "      <td>27575883</td>\n",
              "      <td>varoufakis_1</td>\n",
              "      <td>damomarc</td>\n",
              "      <td>Thu Mar 19 05:51:42 +0000 2015</td>\n",
              "      <td>fake</td>\n",
              "    </tr>\n",
              "    <tr>\n",
              "      <th>15626</th>\n",
              "      <td>578486910491996160</td>\n",
              "      <td>Este es el programa de ZDF en el que confirman...</td>\n",
              "      <td>2049211</td>\n",
              "      <td>varoufakis_1</td>\n",
              "      <td>javierpascual</td>\n",
              "      <td>Thu Mar 19 09:23:21 +0000 2015</td>\n",
              "      <td>fake</td>\n",
              "    </tr>\n",
              "    <tr>\n",
              "      <th>15627</th>\n",
              "      <td>578505023912591360</td>\n",
              "      <td>11.34 - wir haben FAST Mittag ▶ Riesen Verwirr...</td>\n",
              "      <td>262222386</td>\n",
              "      <td>varoufakis_1</td>\n",
              "      <td>aotto1968_2</td>\n",
              "      <td>Thu Mar 19 10:35:20 +0000 2015</td>\n",
              "      <td>fake</td>\n",
              "    </tr>\n",
              "    <tr>\n",
              "      <th>15628</th>\n",
              "      <td>578305144380612609</td>\n",
              "      <td>Sorry, @yanisvaroufakis! https://t.co/BSkYrbII...</td>\n",
              "      <td>19072286</td>\n",
              "      <td>varoufakis_1</td>\n",
              "      <td>janboehm</td>\n",
              "      <td>Wed Mar 18 21:21:05 +0000 2015</td>\n",
              "      <td>fake</td>\n",
              "    </tr>\n",
              "  </tbody>\n",
              "</table>\n",
              "<p>15629 rows × 7 columns</p>\n",
              "</div>"
            ],
            "text/plain": [
              "                  post_id  ... label\n",
              "0      324597532548276224  ...  fake\n",
              "1      325145334739267584  ...  fake\n",
              "2      325152091423248385  ...  fake\n",
              "3      324554646976868352  ...  fake\n",
              "4      324315545572896768  ...  fake\n",
              "...                   ...  ...   ...\n",
              "15624  578433150071775232  ...  fake\n",
              "15625  578433646597656576  ...  fake\n",
              "15626  578486910491996160  ...  fake\n",
              "15627  578505023912591360  ...  fake\n",
              "15628  578305144380612609  ...  fake\n",
              "\n",
              "[15629 rows x 7 columns]"
            ]
          },
          "metadata": {
            "tags": []
          },
          "execution_count": 8
        }
      ]
    },
    {
      "cell_type": "code",
      "metadata": {
        "id": "gfMO9kDKHj1c",
        "colab": {
          "base_uri": "https://localhost:8080/",
          "height": 419
        },
        "outputId": "014f362c-64e5-41e0-db69-249e50b2c9cf"
      },
      "source": [
        "test_df"
      ],
      "execution_count": null,
      "outputs": [
        {
          "output_type": "execute_result",
          "data": {
            "text/html": [
              "<div>\n",
              "<style scoped>\n",
              "    .dataframe tbody tr th:only-of-type {\n",
              "        vertical-align: middle;\n",
              "    }\n",
              "\n",
              "    .dataframe tbody tr th {\n",
              "        vertical-align: top;\n",
              "    }\n",
              "\n",
              "    .dataframe thead th {\n",
              "        text-align: right;\n",
              "    }\n",
              "</style>\n",
              "<table border=\"1\" class=\"dataframe\">\n",
              "  <thead>\n",
              "    <tr style=\"text-align: right;\">\n",
              "      <th></th>\n",
              "      <th>post_id</th>\n",
              "      <th>post_text</th>\n",
              "      <th>user_id</th>\n",
              "      <th>username</th>\n",
              "      <th>image_id</th>\n",
              "      <th>timestamp</th>\n",
              "      <th>label</th>\n",
              "    </tr>\n",
              "  </thead>\n",
              "  <tbody>\n",
              "    <tr>\n",
              "      <th>0</th>\n",
              "      <td>651118294447951872</td>\n",
              "      <td>#AntiTerror \"#ArabianBlood\" #RussianFederation...</td>\n",
              "      <td>3.834097e+08</td>\n",
              "      <td>AlexArtAndros</td>\n",
              "      <td>airstrikes_1</td>\n",
              "      <td>Mon Oct 05 19:34:33 +0000 2015</td>\n",
              "      <td>fake</td>\n",
              "    </tr>\n",
              "    <tr>\n",
              "      <th>1</th>\n",
              "      <td>651115824065830912</td>\n",
              "      <td>#АнтиТеррор \"#АрабскаяКровь\" #РФ в #Сирии прот...</td>\n",
              "      <td>3.834097e+08</td>\n",
              "      <td>AlexArtAndros</td>\n",
              "      <td>airstrikes_1</td>\n",
              "      <td>Mon Oct 05 19:24:44 +0000 2015</td>\n",
              "      <td>fake</td>\n",
              "    </tr>\n",
              "    <tr>\n",
              "      <th>2</th>\n",
              "      <td>651095856662360065</td>\n",
              "      <td>Ну чё, сегодня надавали трендюлей игиловцам по...</td>\n",
              "      <td>2.712310e+09</td>\n",
              "      <td>NataYaraya</td>\n",
              "      <td>airstrikes_1</td>\n",
              "      <td>Mon Oct 05 18:05:23 +0000 2015</td>\n",
              "      <td>fake</td>\n",
              "    </tr>\n",
              "    <tr>\n",
              "      <th>3</th>\n",
              "      <td>651086828234104832</td>\n",
              "      <td>Действия России в Сирии  безукоризненны. Видео...</td>\n",
              "      <td>3.690572e+07</td>\n",
              "      <td>Alltecz</td>\n",
              "      <td>airstrikes_1</td>\n",
              "      <td>Mon Oct 05 17:29:31 +0000 2015</td>\n",
              "      <td>fake</td>\n",
              "    </tr>\n",
              "    <tr>\n",
              "      <th>4</th>\n",
              "      <td>651034616007106560</td>\n",
              "      <td>5-10-2015\\nThe airstrike against an ISIS ammun...</td>\n",
              "      <td>1.070959e+09</td>\n",
              "      <td>msojormsojor</td>\n",
              "      <td>airstrikes_1</td>\n",
              "      <td>Mon Oct 05 14:02:02 +0000 2015</td>\n",
              "      <td>fake</td>\n",
              "    </tr>\n",
              "    <tr>\n",
              "      <th>...</th>\n",
              "      <td>...</td>\n",
              "      <td>...</td>\n",
              "      <td>...</td>\n",
              "      <td>...</td>\n",
              "      <td>...</td>\n",
              "      <td>...</td>\n",
              "      <td>...</td>\n",
              "    </tr>\n",
              "    <tr>\n",
              "      <th>2172</th>\n",
              "      <td>700662094107119616</td>\n",
              "      <td>14 children! 14 different fathers! All of them...</td>\n",
              "      <td>6.973105e+07</td>\n",
              "      <td>ErrBodyLuvsCris</td>\n",
              "      <td>woman_14_children_1</td>\n",
              "      <td>Fri Feb 19 12:43:55 +0000 2016</td>\n",
              "      <td>fake</td>\n",
              "    </tr>\n",
              "    <tr>\n",
              "      <th>2173</th>\n",
              "      <td>700638809155710977</td>\n",
              "      <td>Meet The Woman Who Has Given Birth To 14 Child...</td>\n",
              "      <td>4.912947e+09</td>\n",
              "      <td>EyoawansBlog</td>\n",
              "      <td>woman_14_children_1</td>\n",
              "      <td>Fri Feb 19 11:11:23 +0000 2016</td>\n",
              "      <td>fake</td>\n",
              "    </tr>\n",
              "    <tr>\n",
              "      <th>2174</th>\n",
              "      <td>700618091886047232</td>\n",
              "      <td>RT @Viasat1Ghana: Woman, 36, gives birth to 14...</td>\n",
              "      <td>3.245410e+08</td>\n",
              "      <td>NanaEssilfie</td>\n",
              "      <td>woman_14_children_1</td>\n",
              "      <td>Fri Feb 19 09:49:04 +0000 2016</td>\n",
              "      <td>fake</td>\n",
              "    </tr>\n",
              "    <tr>\n",
              "      <th>2175</th>\n",
              "      <td>700569502874992640</td>\n",
              "      <td>Woman Breaks World Record With 14 Children fro...</td>\n",
              "      <td>4.068154e+08</td>\n",
              "      <td>Abiola_j360ent</td>\n",
              "      <td>woman_14_children_2</td>\n",
              "      <td>Fri Feb 19 06:36:00 +0000 2016</td>\n",
              "      <td>fake</td>\n",
              "    </tr>\n",
              "    <tr>\n",
              "      <th>2176</th>\n",
              "      <td>700569797545881600</td>\n",
              "      <td>RT @Abiola_j360ent: Woman Breaks World Record ...</td>\n",
              "      <td>2.464708e+09</td>\n",
              "      <td>iam_Spanzy</td>\n",
              "      <td>woman_14_children_2</td>\n",
              "      <td>Fri Feb 19 06:37:10 +0000 2016</td>\n",
              "      <td>fake</td>\n",
              "    </tr>\n",
              "  </tbody>\n",
              "</table>\n",
              "<p>2177 rows × 7 columns</p>\n",
              "</div>"
            ],
            "text/plain": [
              "                 post_id  ... label\n",
              "0     651118294447951872  ...  fake\n",
              "1     651115824065830912  ...  fake\n",
              "2     651095856662360065  ...  fake\n",
              "3     651086828234104832  ...  fake\n",
              "4     651034616007106560  ...  fake\n",
              "...                  ...  ...   ...\n",
              "2172  700662094107119616  ...  fake\n",
              "2173  700638809155710977  ...  fake\n",
              "2174  700618091886047232  ...  fake\n",
              "2175  700569502874992640  ...  fake\n",
              "2176  700569797545881600  ...  fake\n",
              "\n",
              "[2177 rows x 7 columns]"
            ]
          },
          "metadata": {
            "tags": []
          },
          "execution_count": 9
        }
      ]
    },
    {
      "cell_type": "code",
      "metadata": {
        "id": "mBFYNCjFOZ3I",
        "colab": {
          "base_uri": "https://localhost:8080/",
          "height": 419
        },
        "outputId": "8da0abc3-4e2b-44d7-8df9-20b6bbce27e7"
      },
      "source": [
        "def return_first_image(row):\n",
        "    return row['image_id(s)'].split(',')[0].strip()\n",
        "\n",
        "train_df['first_image_id'] = train_df.apply (lambda row: return_first_image(row),axis=1)\n",
        "train_df"
      ],
      "execution_count": null,
      "outputs": [
        {
          "output_type": "execute_result",
          "data": {
            "text/html": [
              "<div>\n",
              "<style scoped>\n",
              "    .dataframe tbody tr th:only-of-type {\n",
              "        vertical-align: middle;\n",
              "    }\n",
              "\n",
              "    .dataframe tbody tr th {\n",
              "        vertical-align: top;\n",
              "    }\n",
              "\n",
              "    .dataframe thead th {\n",
              "        text-align: right;\n",
              "    }\n",
              "</style>\n",
              "<table border=\"1\" class=\"dataframe\">\n",
              "  <thead>\n",
              "    <tr style=\"text-align: right;\">\n",
              "      <th></th>\n",
              "      <th>post_id</th>\n",
              "      <th>post_text</th>\n",
              "      <th>user_id</th>\n",
              "      <th>image_id(s)</th>\n",
              "      <th>username</th>\n",
              "      <th>timestamp</th>\n",
              "      <th>label</th>\n",
              "      <th>first_image_id</th>\n",
              "    </tr>\n",
              "  </thead>\n",
              "  <tbody>\n",
              "    <tr>\n",
              "      <th>0</th>\n",
              "      <td>324597532548276224</td>\n",
              "      <td>Don't need feds to solve the #bostonbombing wh...</td>\n",
              "      <td>886672620</td>\n",
              "      <td>boston_fake_03,boston_fake_35</td>\n",
              "      <td>SantaCruzShred</td>\n",
              "      <td>Wed Apr 17 18:57:37 +0000 2013</td>\n",
              "      <td>fake</td>\n",
              "      <td>boston_fake_03</td>\n",
              "    </tr>\n",
              "    <tr>\n",
              "      <th>1</th>\n",
              "      <td>325145334739267584</td>\n",
              "      <td>PIC: Comparison of #Boston suspect Sunil Tripa...</td>\n",
              "      <td>21992286</td>\n",
              "      <td>boston_fake_23</td>\n",
              "      <td>Oscar_Wang</td>\n",
              "      <td>Fri Apr 19 07:14:23 +0000 2013</td>\n",
              "      <td>fake</td>\n",
              "      <td>boston_fake_23</td>\n",
              "    </tr>\n",
              "    <tr>\n",
              "      <th>2</th>\n",
              "      <td>325152091423248385</td>\n",
              "      <td>I'm not completely convinced that it's this Su...</td>\n",
              "      <td>16428755</td>\n",
              "      <td>boston_fake_34</td>\n",
              "      <td>jamwil</td>\n",
              "      <td>Fri Apr 19 07:41:14 +0000 2013</td>\n",
              "      <td>fake</td>\n",
              "      <td>boston_fake_34</td>\n",
              "    </tr>\n",
              "    <tr>\n",
              "      <th>3</th>\n",
              "      <td>324554646976868352</td>\n",
              "      <td>Brutal lo que se puede conseguir en colaboraci...</td>\n",
              "      <td>303138574</td>\n",
              "      <td>boston_fake_03,boston_fake_35</td>\n",
              "      <td>rubenson80</td>\n",
              "      <td>Wed Apr 17 16:07:12 +0000 2013</td>\n",
              "      <td>fake</td>\n",
              "      <td>boston_fake_03</td>\n",
              "    </tr>\n",
              "    <tr>\n",
              "      <th>4</th>\n",
              "      <td>324315545572896768</td>\n",
              "      <td>4chan and the bombing. just throwing it out th...</td>\n",
              "      <td>180460772</td>\n",
              "      <td>boston_fake_15</td>\n",
              "      <td>Slimlenny</td>\n",
              "      <td>Wed Apr 17 00:17:06 +0000 2013</td>\n",
              "      <td>fake</td>\n",
              "      <td>boston_fake_15</td>\n",
              "    </tr>\n",
              "    <tr>\n",
              "      <th>...</th>\n",
              "      <td>...</td>\n",
              "      <td>...</td>\n",
              "      <td>...</td>\n",
              "      <td>...</td>\n",
              "      <td>...</td>\n",
              "      <td>...</td>\n",
              "      <td>...</td>\n",
              "      <td>...</td>\n",
              "    </tr>\n",
              "    <tr>\n",
              "      <th>15624</th>\n",
              "      <td>578433150071775232</td>\n",
              "      <td>Un présentateur de la ZDF confesse avoir truqu...</td>\n",
              "      <td>257551211</td>\n",
              "      <td>varoufakis_1</td>\n",
              "      <td>Cdt_Sylvestre</td>\n",
              "      <td>Thu Mar 19 05:49:44 +0000 2015</td>\n",
              "      <td>fake</td>\n",
              "      <td>varoufakis_1</td>\n",
              "    </tr>\n",
              "    <tr>\n",
              "      <th>15625</th>\n",
              "      <td>578433646597656576</td>\n",
              "      <td>Oh les kleine menteurs \\\"@CorineBarella: Un pr...</td>\n",
              "      <td>27575883</td>\n",
              "      <td>varoufakis_1</td>\n",
              "      <td>damomarc</td>\n",
              "      <td>Thu Mar 19 05:51:42 +0000 2015</td>\n",
              "      <td>fake</td>\n",
              "      <td>varoufakis_1</td>\n",
              "    </tr>\n",
              "    <tr>\n",
              "      <th>15626</th>\n",
              "      <td>578486910491996160</td>\n",
              "      <td>Este es el programa de ZDF en el que confirman...</td>\n",
              "      <td>2049211</td>\n",
              "      <td>varoufakis_1</td>\n",
              "      <td>javierpascual</td>\n",
              "      <td>Thu Mar 19 09:23:21 +0000 2015</td>\n",
              "      <td>fake</td>\n",
              "      <td>varoufakis_1</td>\n",
              "    </tr>\n",
              "    <tr>\n",
              "      <th>15627</th>\n",
              "      <td>578505023912591360</td>\n",
              "      <td>11.34 - wir haben FAST Mittag ▶ Riesen Verwirr...</td>\n",
              "      <td>262222386</td>\n",
              "      <td>varoufakis_1</td>\n",
              "      <td>aotto1968_2</td>\n",
              "      <td>Thu Mar 19 10:35:20 +0000 2015</td>\n",
              "      <td>fake</td>\n",
              "      <td>varoufakis_1</td>\n",
              "    </tr>\n",
              "    <tr>\n",
              "      <th>15628</th>\n",
              "      <td>578305144380612609</td>\n",
              "      <td>Sorry, @yanisvaroufakis! https://t.co/BSkYrbII...</td>\n",
              "      <td>19072286</td>\n",
              "      <td>varoufakis_1</td>\n",
              "      <td>janboehm</td>\n",
              "      <td>Wed Mar 18 21:21:05 +0000 2015</td>\n",
              "      <td>fake</td>\n",
              "      <td>varoufakis_1</td>\n",
              "    </tr>\n",
              "  </tbody>\n",
              "</table>\n",
              "<p>15629 rows × 8 columns</p>\n",
              "</div>"
            ],
            "text/plain": [
              "                  post_id  ...  first_image_id\n",
              "0      324597532548276224  ...  boston_fake_03\n",
              "1      325145334739267584  ...  boston_fake_23\n",
              "2      325152091423248385  ...  boston_fake_34\n",
              "3      324554646976868352  ...  boston_fake_03\n",
              "4      324315545572896768  ...  boston_fake_15\n",
              "...                   ...  ...             ...\n",
              "15624  578433150071775232  ...    varoufakis_1\n",
              "15625  578433646597656576  ...    varoufakis_1\n",
              "15626  578486910491996160  ...    varoufakis_1\n",
              "15627  578505023912591360  ...    varoufakis_1\n",
              "15628  578305144380612609  ...    varoufakis_1\n",
              "\n",
              "[15629 rows x 8 columns]"
            ]
          },
          "metadata": {
            "tags": []
          },
          "execution_count": 10
        }
      ]
    },
    {
      "cell_type": "code",
      "metadata": {
        "id": "ik-KBA0OcCMe",
        "colab": {
          "base_uri": "https://localhost:8080/"
        },
        "outputId": "0aaff395-a4e3-4e25-80ec-72a06990afda"
      },
      "source": [
        "train_df['label'].value_counts()"
      ],
      "execution_count": null,
      "outputs": [
        {
          "output_type": "execute_result",
          "data": {
            "text/plain": [
              "fake    9404\n",
              "real    6225\n",
              "Name: label, dtype: int64"
            ]
          },
          "metadata": {
            "tags": []
          },
          "execution_count": 11
        }
      ]
    },
    {
      "cell_type": "code",
      "metadata": {
        "id": "dKzyHQwqcUvf",
        "colab": {
          "base_uri": "https://localhost:8080/"
        },
        "outputId": "14db5fc6-5e8f-47c1-ddc6-e434af63e0d1"
      },
      "source": [
        "test_df['label'].value_counts()"
      ],
      "execution_count": null,
      "outputs": [
        {
          "output_type": "execute_result",
          "data": {
            "text/plain": [
              "fake    1186\n",
              "real     991\n",
              "Name: label, dtype: int64"
            ]
          },
          "metadata": {
            "tags": []
          },
          "execution_count": 12
        }
      ]
    },
    {
      "cell_type": "code",
      "metadata": {
        "id": "0nM-TDwRccVT",
        "colab": {
          "base_uri": "https://localhost:8080/",
          "height": 388
        },
        "outputId": "9333a1fb-02c1-4dd3-f732-588c3c488bd6"
      },
      "source": [
        "fig, ax = plt.subplots(1, 1, figsize=(10, 6))\n",
        "ax = sns.countplot(x='label', data=train_df)\n",
        "\n",
        "ax.set_xlabel('label')\n",
        "ax.set_ylabel('')\n",
        "for p in ax.patches:\n",
        "    ax.annotate('{:.2f}%'.format(p.get_height()/train_df.shape[0]*100), (p.get_x()+0.35, p.get_height()+100))"
      ],
      "execution_count": null,
      "outputs": [
        {
          "output_type": "display_data",
          "data": {
            "image/png": "[encoded data removed]",
            "text/plain": [
              "<Figure size 720x432 with 1 Axes>"
            ]
          },
          "metadata": {
            "tags": [],
            "needs_background": "light"
          }
        }
      ]
    },
    {
      "cell_type": "code",
      "metadata": {
        "id": "EZh8BPifcysN",
        "colab": {
          "base_uri": "https://localhost:8080/",
          "height": 407
        },
        "outputId": "9df7eb0d-244d-4501-a38d-f2d68a50f4a0"
      },
      "source": [
        "import seaborn as sns\n",
        "\n",
        "fig, ax = plt.subplots(1, 1, figsize=(10, 6))\n",
        "ax = sns.countplot(x='label', data=test_df)\n",
        "\n",
        "ax.set_xlabel('label')\n",
        "ax.set_ylabel('')\n",
        "for p in ax.patches:\n",
        "    ax.annotate('{:.2f}%'.format(p.get_height()/test_df.shape[0]*100), (p.get_x()+0.35, p.get_height()+100))"
      ],
      "execution_count": null,
      "outputs": [
        {
          "output_type": "display_data",
          "data": {
            "image/png": "[encoded data removed]",
            "text/plain": [
              "<Figure size 720x432 with 1 Axes>"
            ]
          },
          "metadata": {
            "tags": [],
            "needs_background": "light"
          }
        }
      ]
    },
    {
      "cell_type": "code",
      "metadata": {
        "id": "IiQw3eicPiI7",
        "colab": {
          "base_uri": "https://localhost:8080/",
          "height": 436
        },
        "outputId": "6eecaf48-e5e3-4082-c844-b8532ef35793"
      },
      "source": [
        "image_train_df = get_df('/content/drive/MyDrive/BTP/images.txt')\n",
        "image_train_df"
      ],
      "execution_count": null,
      "outputs": [
        {
          "output_type": "stream",
          "text": [
            "b'Skipping line 165: expected 4 fields, saw 5\\n'\n"
          ],
          "name": "stderr"
        },
        {
          "output_type": "execute_result",
          "data": {
            "text/html": [
              "<div>\n",
              "<style scoped>\n",
              "    .dataframe tbody tr th:only-of-type {\n",
              "        vertical-align: middle;\n",
              "    }\n",
              "\n",
              "    .dataframe tbody tr th {\n",
              "        vertical-align: top;\n",
              "    }\n",
              "\n",
              "    .dataframe thead th {\n",
              "        text-align: right;\n",
              "    }\n",
              "</style>\n",
              "<table border=\"1\" class=\"dataframe\">\n",
              "  <thead>\n",
              "    <tr style=\"text-align: right;\">\n",
              "      <th></th>\n",
              "      <th>image_id</th>\n",
              "      <th>image_url</th>\n",
              "      <th>annotation</th>\n",
              "      <th>event</th>\n",
              "    </tr>\n",
              "  </thead>\n",
              "  <tbody>\n",
              "    <tr>\n",
              "      <th>0</th>\n",
              "      <td>boston_fake_01</td>\n",
              "      <td>http://i.imgur.com/LvoCC5T.jpg</td>\n",
              "      <td>fake</td>\n",
              "      <td>boston</td>\n",
              "    </tr>\n",
              "    <tr>\n",
              "      <th>1</th>\n",
              "      <td>boston_fake_02</td>\n",
              "      <td>http://instagram.com/p/YN7_ThPXrU/</td>\n",
              "      <td>fake</td>\n",
              "      <td>boston</td>\n",
              "    </tr>\n",
              "    <tr>\n",
              "      <th>2</th>\n",
              "      <td>boston_fake_03</td>\n",
              "      <td>https://o.twimg.com/2/proxy.jpg?t=HBgeaHR0cDov...</td>\n",
              "      <td>fake</td>\n",
              "      <td>boston</td>\n",
              "    </tr>\n",
              "    <tr>\n",
              "      <th>3</th>\n",
              "      <td>boston_fake_04</td>\n",
              "      <td>http://media.tumblr.com/a813460e72a178d8127b50...</td>\n",
              "      <td>fake</td>\n",
              "      <td>boston</td>\n",
              "    </tr>\n",
              "    <tr>\n",
              "      <th>4</th>\n",
              "      <td>boston_fake_05</td>\n",
              "      <td>http://i.imgur.com/uxAh4wwh.jpg</td>\n",
              "      <td>fake</td>\n",
              "      <td>boston</td>\n",
              "    </tr>\n",
              "    <tr>\n",
              "      <th>...</th>\n",
              "      <td>...</td>\n",
              "      <td>...</td>\n",
              "      <td>...</td>\n",
              "      <td>...</td>\n",
              "    </tr>\n",
              "    <tr>\n",
              "      <th>355</th>\n",
              "      <td>livr_02</td>\n",
              "      <td>https://pbs.twimg.com/media/Bic4fA5CQAAT5KY.jpg</td>\n",
              "      <td>Livr</td>\n",
              "      <td>NaN</td>\n",
              "    </tr>\n",
              "    <tr>\n",
              "      <th>356</th>\n",
              "      <td>livr_03</td>\n",
              "      <td>https://pbs.twimg.com/media/BialJuECIAATXE2.jpg</td>\n",
              "      <td>Livr</td>\n",
              "      <td>NaN</td>\n",
              "    </tr>\n",
              "    <tr>\n",
              "      <th>357</th>\n",
              "      <td>livr_04</td>\n",
              "      <td>https://pbs.twimg.com/media/BiVisqpCIAAbgju.jpg</td>\n",
              "      <td>Livr</td>\n",
              "      <td>NaN</td>\n",
              "    </tr>\n",
              "    <tr>\n",
              "      <th>358</th>\n",
              "      <td>passport_01</td>\n",
              "      <td>https://pbs.twimg.com/media/Bo-CY5ACcAAiRAw.jpg</td>\n",
              "      <td>Passport</td>\n",
              "      <td>NaN</td>\n",
              "    </tr>\n",
              "    <tr>\n",
              "      <th>359</th>\n",
              "      <td>passport_02</td>\n",
              "      <td>https://pbs.twimg.com/media/BpJguJhIMAAQsZK.jpg</td>\n",
              "      <td>Passport</td>\n",
              "      <td>NaN</td>\n",
              "    </tr>\n",
              "  </tbody>\n",
              "</table>\n",
              "<p>360 rows × 4 columns</p>\n",
              "</div>"
            ],
            "text/plain": [
              "           image_id  ...   event\n",
              "0    boston_fake_01  ...  boston\n",
              "1    boston_fake_02  ...  boston\n",
              "2    boston_fake_03  ...  boston\n",
              "3    boston_fake_04  ...  boston\n",
              "4    boston_fake_05  ...  boston\n",
              "..              ...  ...     ...\n",
              "355         livr_02  ...     NaN\n",
              "356         livr_03  ...     NaN\n",
              "357         livr_04  ...     NaN\n",
              "358     passport_01  ...     NaN\n",
              "359     passport_02  ...     NaN\n",
              "\n",
              "[360 rows x 4 columns]"
            ]
          },
          "metadata": {
            "tags": []
          },
          "execution_count": 15
        }
      ]
    },
    {
      "cell_type": "code",
      "metadata": {
        "id": "YNr_7fcT_Fnz",
        "colab": {
          "base_uri": "https://localhost:8080/"
        },
        "outputId": "04fe75df-2e5c-4ae8-c635-863ac1bea905"
      },
      "source": [
        "images_train_dataset = [i for i in train_df['first_image_id'].tolist()]\n",
        "images_train = [i.split('.')[0].strip() for i in os.listdir('/content/drive/MyDrive/BTP/Images')]\n",
        "images_NA = set(images_train_dataset)-set(images_train)\n",
        "images_NA"
      ],
      "execution_count": null,
      "outputs": [
        {
          "output_type": "execute_result",
          "data": {
            "text/plain": [
              "{'boston_fake_03',\n",
              " 'boston_fake_07',\n",
              " 'boston_fake_10',\n",
              " 'boston_fake_13',\n",
              " 'boston_fake_20',\n",
              " 'boston_fake_35',\n",
              " 'eclipse_08',\n",
              " 'eclipse_video_01',\n",
              " 'livr_02',\n",
              " 'malaysia_fake_02',\n",
              " 'sandy_fake_08',\n",
              " 'sandy_fake_21',\n",
              " 'sandy_real_121',\n",
              " 'sandy_real_128',\n",
              " 'sandy_real_129',\n",
              " 'sandy_real_134',\n",
              " 'sandy_real_139',\n",
              " 'sandy_real_141',\n",
              " 'sandy_real_147',\n",
              " 'sandy_real_149',\n",
              " 'sandy_real_36',\n",
              " 'sandy_real_4',\n",
              " 'sandy_real_53',\n",
              " 'sandy_real_6',\n",
              " 'sandy_real_92',\n",
              " 'syrianboy_1',\n",
              " 'varoufakis_1'}"
            ]
          },
          "metadata": {
            "tags": []
          },
          "execution_count": 16
        }
      ]
    },
    {
      "cell_type": "code",
      "metadata": {
        "id": "0Pk8g27i0VkN",
        "colab": {
          "base_uri": "https://localhost:8080/"
        },
        "outputId": "5c00533d-8032-42d9-b71a-3d89b6605fb9"
      },
      "source": [
        "train_df = train_df[~train_df['first_image_id'].isin(images_NA)]\n",
        "train_df.shape"
      ],
      "execution_count": null,
      "outputs": [
        {
          "output_type": "execute_result",
          "data": {
            "text/plain": [
              "(13241, 8)"
            ]
          },
          "metadata": {
            "tags": []
          },
          "execution_count": 17
        }
      ]
    },
    {
      "cell_type": "code",
      "metadata": {
        "id": "D6Pn0HVPcXAV",
        "colab": {
          "base_uri": "https://localhost:8080/"
        },
        "outputId": "be255667-a0f5-43b8-f241-4fb3d51b61f3"
      },
      "source": [
        "images_test_dataset = [i for i in test_df['image_id'].tolist()]\n",
        "images_test = [i.split('.')[0].strip() for i in os.listdir('/content/drive/MyDrive/BTP/TestSet_Images')]\n",
        "images_test_NA = set(images_test_dataset)-set(images_test)\n",
        "images_test_NA"
      ],
      "execution_count": null,
      "outputs": [
        {
          "output_type": "execute_result",
          "data": {
            "text/plain": [
              "{'airstrikes_1',\n",
              " 'american_soldier_quran_1',\n",
              " 'ankara_explosions_1',\n",
              " 'ankara_explosions_2',\n",
              " 'ankara_explosions_3',\n",
              " 'attacks_paris_16',\n",
              " 'attacks_paris_24',\n",
              " 'attacks_paris_7',\n",
              " 'boko_haram_1',\n",
              " 'brussels_car_metro_1',\n",
              " 'brussels_car_metro_2',\n",
              " 'brussels_car_metro_3',\n",
              " 'brussels_explosions_1',\n",
              " 'brussels_explosions_2',\n",
              " 'brussels_explosions_3',\n",
              " 'convoy_explosion_turkey_1',\n",
              " 'convoy_explosion_turkey_2',\n",
              " 'convoy_explosion_turkey_3',\n",
              " 'donald_trump_attacker_1',\n",
              " 'eagle_kid_1',\n",
              " 'isis_children_1',\n",
              " 'isis_children_2',\n",
              " 'pope_francis_1',\n",
              " 'snowboard_girl_1',\n",
              " 'snowboard_girl_2',\n",
              " 'syrian_children_2'}"
            ]
          },
          "metadata": {
            "tags": []
          },
          "execution_count": 18
        }
      ]
    },
    {
      "cell_type": "code",
      "metadata": {
        "id": "0BkGqutYdUlO",
        "colab": {
          "base_uri": "https://localhost:8080/"
        },
        "outputId": "0a727fea-1630-4a4a-a75b-ad34d4871130"
      },
      "source": [
        "test_df = test_df[~test_df['image_id'].isin(images_test_NA)]\n",
        "test_df.shape"
      ],
      "execution_count": null,
      "outputs": [
        {
          "output_type": "execute_result",
          "data": {
            "text/plain": [
              "(1098, 7)"
            ]
          },
          "metadata": {
            "tags": []
          },
          "execution_count": 19
        }
      ]
    },
    {
      "cell_type": "markdown",
      "metadata": {
        "id": "Gh60J2DxJWN3"
      },
      "source": [
        "## **Textual Feature Extraction**"
      ]
    },
    {
      "cell_type": "code",
      "metadata": {
        "id": "HcL_CU40UjOv",
        "colab": {
          "base_uri": "https://localhost:8080/"
        },
        "outputId": "c694dbe9-5da1-479b-f076-12fa0bcdb4f9"
      },
      "source": [
        "train_text = train_df['post_text'].tolist()\n",
        "test_text = test_df['post_text'].tolist()\n",
        "len(train_text)"
      ],
      "execution_count": null,
      "outputs": [
        {
          "output_type": "execute_result",
          "data": {
            "text/plain": [
              "13241"
            ]
          },
          "metadata": {
            "tags": []
          },
          "execution_count": 20
        }
      ]
    },
    {
      "cell_type": "code",
      "metadata": {
        "id": "eKq-uh-FVR6Y"
      },
      "source": [
        "y_train = train_df['label'].tolist()\n",
        "y_train = [1 if i=='real' else 0 for i in y_train]\n",
        "\n",
        "y_test = test_df['label'].tolist()\n",
        "y_test = [1 if i=='real' else 0 for i in y_test]"
      ],
      "execution_count": null,
      "outputs": []
    },
    {
      "cell_type": "markdown",
      "metadata": {
        "id": "gY4lIavSTsvV"
      },
      "source": [
        "## Data Pre-processing"
      ]
    },
    {
      "cell_type": "code",
      "metadata": {
        "id": "yhoxCF2pRoxd"
      },
      "source": [
        "import unicodedata\n",
        "def preprocess_text(sen):\n",
        "    # Removing html tags\n",
        "    sentence = remove_tags(sen)\n",
        "\n",
        "    # Removing multiple spaces\n",
        "    sentence = re.sub(r'\\s+', ' ', sentence)\n",
        "\n",
        "   # Removing @mention\n",
        "    sentence = re.sub(r'@[A-Za-z0-9]+','',sentence)\n",
        "\n",
        "    # Removing Url linking\n",
        "    sentence = re.sub('https?://[A-Za-z0-9./]+','',sentence)\n",
        "\n",
        "    # Removing hashtags and numbers\n",
        "    sentence = re.sub(\"[^a-zA-Z^']\", \" \", sentence)\n",
        "   \n",
        "    return sentence"
      ],
      "execution_count": null,
      "outputs": []
    },
    {
      "cell_type": "code",
      "metadata": {
        "id": "k4Gra3bJTUge",
        "colab": {
          "base_uri": "https://localhost:8080/",
          "height": 35
        },
        "outputId": "0cafaa87-a09f-49ee-8c3b-bd425fe5abd6"
      },
      "source": [
        "import re\n",
        "TAG_RE = re.compile(r'<[^>]+>')\n",
        "\n",
        "def remove_tags(text):\n",
        "    return TAG_RE.sub('', text)\n",
        "\n",
        "text = []\n",
        "sentences = train_text\n",
        "for sen in sentences:\n",
        "    text.append(preprocess_text(sen))\n",
        "\n",
        "train_text= text\n",
        "train_text[0]"
      ],
      "execution_count": null,
      "outputs": [
        {
          "output_type": "execute_result",
          "data": {
            "application/vnd.google.colaboratory.intrinsic+json": {
              "type": "string"
            },
            "text/plain": [
              "\"PIC  Comparison of  Boston suspect Sunil Tripathi's FBI released images video and his MISSING poster  You decide \""
            ]
          },
          "metadata": {
            "tags": []
          },
          "execution_count": 23
        }
      ]
    },
    {
      "cell_type": "code",
      "metadata": {
        "id": "QWCahu5rf8-w",
        "colab": {
          "base_uri": "https://localhost:8080/",
          "height": 35
        },
        "outputId": "a01ecd48-7931-4cf9-9238-b429793ba01b"
      },
      "source": [
        "import re\n",
        "TAG_RE = re.compile(r'<[^>]+>')\n",
        "\n",
        "def remove_tags(text):\n",
        "    return TAG_RE.sub('', text)\n",
        "\n",
        "text = []\n",
        "sentences = test_text\n",
        "for sen in sentences:\n",
        "    text.append(preprocess_text(sen))\n",
        "\n",
        "test_text= text\n",
        "test_text[0]"
      ],
      "execution_count": null,
      "outputs": [
        {
          "output_type": "execute_result",
          "data": {
            "application/vnd.google.colaboratory.intrinsic+json": {
              "type": "string"
            },
            "text/plain": [
              "'Tristesse       n Bataclan sold out  musiciens  amp  public en osmose   Quelques minutes avant le drame   paixauxvictimes '"
            ]
          },
          "metadata": {
            "tags": []
          },
          "execution_count": 24
        }
      ]
    },
    {
      "cell_type": "code",
      "metadata": {
        "id": "2qlu_qPjZIXZ",
        "colab": {
          "base_uri": "https://localhost:8080/"
        },
        "outputId": "13f80e11-fe64-4eb2-e7af-30fec380ccb9"
      },
      "source": [
        "def max_length(lines):\n",
        "    return max([len(s.split()) for s in lines])\n",
        "\n",
        "print(\"maximum length:\", max_length(train_text))"
      ],
      "execution_count": null,
      "outputs": [
        {
          "output_type": "stream",
          "text": [
            "maximum length: 28\n"
          ],
          "name": "stdout"
        }
      ]
    },
    {
      "cell_type": "code",
      "metadata": {
        "id": "13oiqS6JZ_Xt"
      },
      "source": [
        "max_seq_length = 25"
      ],
      "execution_count": null,
      "outputs": []
    },
    {
      "cell_type": "markdown",
      "metadata": {
        "id": "2jJZI2M7T5wa"
      },
      "source": [
        "## BERT InputExamples"
      ]
    },
    {
      "cell_type": "code",
      "metadata": {
        "id": "nobizj4xlwKH"
      },
      "source": [
        "class PaddingInputExample(object):\n",
        "  pass\n",
        "\n",
        "class InputExample(object):\n",
        "\n",
        "    def __init__(self, guid, text_a, text_b=None, label=None):\n",
        "    \n",
        "        self.guid = guid\n",
        "        self.text_a = text_a\n",
        "        self.text_b = text_b\n",
        "        self.label = label"
      ],
      "execution_count": null,
      "outputs": []
    },
    {
      "cell_type": "markdown",
      "metadata": {
        "id": "zqhp71ptUa1y"
      },
      "source": [
        "## BERT Tokenization"
      ]
    },
    {
      "cell_type": "code",
      "metadata": {
        "id": "pa_l3L7jl74R"
      },
      "source": [
        "def create_tokenizer_from_hub_module():\n",
        "    bert_module =  hub.Module(bert_path)\n",
        "    tokenization_info = bert_module(signature=\"tokenization_info\", as_dict=True)\n",
        "    vocab_file, do_lower_case = sess.run(\n",
        "        [\n",
        "            tokenization_info[\"vocab_file\"],\n",
        "            tokenization_info[\"do_lower_case\"],\n",
        "        ]\n",
        "    )\n",
        "\n",
        "    return FullTokenizer(vocab_file=vocab_file, do_lower_case=do_lower_case)"
      ],
      "execution_count": null,
      "outputs": []
    },
    {
      "cell_type": "markdown",
      "metadata": {
        "id": "_FR_2ZogUkRt"
      },
      "source": [
        "## Input Feature Extractor"
      ]
    },
    {
      "cell_type": "code",
      "metadata": {
        "id": "rSkY2Nfw8cbX"
      },
      "source": [
        "def convert_single_example(tokenizer, example, max_seq_length=256):\n",
        "    \"\"\"Converts a single `InputExample` into a single `InputFeatures`.\"\"\"\n",
        "\n",
        "    if isinstance(example, PaddingInputExample):\n",
        "        input_ids = [0] * max_seq_length\n",
        "        input_mask = [0] * max_seq_length\n",
        "        segment_ids = [0] * max_seq_length\n",
        "        label = 0\n",
        "        return input_ids, input_mask, segment_ids, label\n",
        "\n",
        "    tokens_a = tokenizer.tokenize(example.text_a)\n",
        "    if len(tokens_a) > max_seq_length - 2:\n",
        "        tokens_a = tokens_a[0 : (max_seq_length - 2)]\n",
        "\n",
        "    tokens = []\n",
        "    segment_ids = []\n",
        "    tokens.append(\"[CLS]\")\n",
        "    segment_ids.append(0)\n",
        "    for token in tokens_a:\n",
        "        tokens.append(token)\n",
        "        segment_ids.append(0)\n",
        "    tokens.append(\"[SEP]\")\n",
        "    segment_ids.append(0)\n",
        "\n",
        "    input_ids = tokenizer.convert_tokens_to_ids(tokens)\n",
        "\n",
        "    # The mask has 1 for real tokens and 0 for padding tokens. Only real\n",
        "    # tokens are attended to.\n",
        "    input_mask = [1] * len(input_ids)\n",
        "\n",
        "    # Zero-pad up to the sequence length.\n",
        "    while len(input_ids) < max_seq_length:\n",
        "        input_ids.append(0)\n",
        "        input_mask.append(0)\n",
        "        segment_ids.append(0)\n",
        "\n",
        "    assert len(input_ids) == max_seq_length\n",
        "    assert len(input_mask) == max_seq_length\n",
        "    assert len(segment_ids) == max_seq_length\n",
        "\n",
        "    return input_ids, input_mask, segment_ids, example.label\n",
        "\n",
        "def convert_examples_to_features(tokenizer, examples, max_seq_length=256):\n",
        "    \"\"\"Convert a set of `InputExample`s to a list of `InputFeatures`.\"\"\"\n",
        "\n",
        "    input_ids, input_masks, segment_ids, labels = [], [], [], []\n",
        "    for example in tqdm_notebook(examples, desc=\"Converting examples to features\"):\n",
        "        input_id, input_mask, segment_id, label = convert_single_example(\n",
        "            tokenizer, example, max_seq_length\n",
        "        )\n",
        "        input_ids.append(input_id)\n",
        "        input_masks.append(input_mask)\n",
        "        segment_ids.append(segment_id)\n",
        "        labels.append(label)\n",
        "    return (\n",
        "        np.array(input_ids),\n",
        "        np.array(input_masks),\n",
        "        np.array(segment_ids),\n",
        "        np.array(labels).reshape(-1, 1),\n",
        "    )\n",
        "\n",
        "def convert_text_to_examples(texts, labels):\n",
        "    \"\"\"Create InputExamples\"\"\"\n",
        "    InputExamples = []\n",
        "    for text, label in zip(texts, labels):\n",
        "        InputExamples.append(\n",
        "            InputExample(guid=None, text_a=\" \".join(text), text_b=None, label=label)\n",
        "        )\n",
        "    return InputExamples"
      ],
      "execution_count": null,
      "outputs": []
    },
    {
      "cell_type": "code",
      "metadata": {
        "id": "CB4J33jobjLb",
        "colab": {
          "base_uri": "https://localhost:8080/"
        },
        "outputId": "399e508f-ea61-4bc2-8161-aeffc88cfa7b"
      },
      "source": [
        "sess = tf.Session()\n",
        "tokenizer = create_tokenizer_from_hub_module()"
      ],
      "execution_count": null,
      "outputs": [
        {
          "output_type": "stream",
          "text": [
            "INFO:tensorflow:Saver not created because there are no variables in the graph to restore\n"
          ],
          "name": "stdout"
        },
        {
          "output_type": "stream",
          "text": [
            "INFO:tensorflow:Saver not created because there are no variables in the graph to restore\n"
          ],
          "name": "stderr"
        },
        {
          "output_type": "stream",
          "text": [
            "WARNING:tensorflow:From /usr/local/lib/python3.7/dist-packages/bert/tokenization.py:125: The name tf.gfile.GFile is deprecated. Please use tf.io.gfile.GFile instead.\n",
            "\n"
          ],
          "name": "stdout"
        },
        {
          "output_type": "stream",
          "text": [
            "WARNING:tensorflow:From /usr/local/lib/python3.7/dist-packages/bert/tokenization.py:125: The name tf.gfile.GFile is deprecated. Please use tf.io.gfile.GFile instead.\n",
            "\n"
          ],
          "name": "stderr"
        }
      ]
    },
    {
      "cell_type": "markdown",
      "metadata": {
        "id": "WWxd4YxOUzAb"
      },
      "source": [
        "## Convert Text data to BERT Input Features"
      ]
    },
    {
      "cell_type": "code",
      "metadata": {
        "id": "d3tPKT8nah3v",
        "colab": {
          "base_uri": "https://localhost:8080/",
          "height": 149,
          "referenced_widgets": [
            "dda83c79cb1c469286ec136369187914",
            "10f0ba4f0be44e34a703211721204d42",
            "eb0314380c1546b984551dcdc66a646c",
            "2fca68b32f744fc3ba8031240b33fc59",
            "52f206eb014946288f7dcf2f67201946",
            "a551b5e7d23e4c3091571e4760c31cf8",
            "7461a39828d94b3e8c88e7e1c37fd758",
            "6d91747780b64c88bc7db39a2759faa5",
            "2cd373df40c14cf18c8ecf4bc6d13703",
            "11438e3fd3af4c3993881595546a8d96",
            "88d41d649db345e1a177a9f385269da5",
            "1dc41da47d0d45f4917f324c5c856dc4",
            "1aff52c27d89437cb8a04b5403a5301b",
            "4387839efd0b4a06a2bca0ab03be94b5",
            "b872205f3007447ca2e15d66a0c1e7a5",
            "9a638a4151094322975c64adf69bc825"
          ]
        },
        "outputId": "68555eac-e825-461c-8c01-e1d1b31eaebe"
      },
      "source": [
        "from tqdm import tqdm_notebook\n",
        "train_examples = convert_text_to_examples(train_text, y_train)\n",
        "test_examples = convert_text_to_examples(test_text, y_test)\n",
        "\n",
        "(train_input_ids, train_input_masks, train_segment_ids, y_train\n",
        " ) =  convert_examples_to_features(tokenizer, train_examples, max_seq_length=max_seq_length)\n",
        "\n",
        "(test_input_ids, test_input_masks, test_segment_ids, y_test\n",
        " ) =  convert_examples_to_features(tokenizer, test_examples, max_seq_length=max_seq_length)"
      ],
      "execution_count": null,
      "outputs": [
        {
          "output_type": "stream",
          "text": [
            "/usr/local/lib/python3.7/dist-packages/ipykernel_launcher.py:47: TqdmDeprecationWarning: This function will be removed in tqdm==5.0.0\n",
            "Please use `tqdm.notebook.tqdm` instead of `tqdm.tqdm_notebook`\n"
          ],
          "name": "stderr"
        },
        {
          "output_type": "display_data",
          "data": {
            "application/vnd.jupyter.widget-view+json": {
              "model_id": "dda83c79cb1c469286ec136369187914",
              "version_minor": 0,
              "version_major": 2
            },
            "text/plain": [
              "HBox(children=(FloatProgress(value=0.0, description='Converting examples to features', max=13241.0, style=Prog…"
            ]
          },
          "metadata": {
            "tags": []
          }
        },
        {
          "output_type": "stream",
          "text": [
            "\n"
          ],
          "name": "stdout"
        },
        {
          "output_type": "display_data",
          "data": {
            "application/vnd.jupyter.widget-view+json": {
              "model_id": "2cd373df40c14cf18c8ecf4bc6d13703",
              "version_minor": 0,
              "version_major": 2
            },
            "text/plain": [
              "HBox(children=(FloatProgress(value=0.0, description='Converting examples to features', max=1098.0, style=Progr…"
            ]
          },
          "metadata": {
            "tags": []
          }
        },
        {
          "output_type": "stream",
          "text": [
            "\n"
          ],
          "name": "stdout"
        }
      ]
    },
    {
      "cell_type": "markdown",
      "metadata": {
        "id": "1LsijL3QE4Zj"
      },
      "source": [
        "## Loading BERT Model"
      ]
    },
    {
      "cell_type": "code",
      "metadata": {
        "id": "9qsbu1BjEEGk",
        "colab": {
          "base_uri": "https://localhost:8080/"
        },
        "outputId": "495fd691-69ae-46f9-9217-da13f8caeadf"
      },
      "source": [
        "bm = hub.Module(bert_path, trainable=True, name=f\"bert_module\")\n",
        "bm"
      ],
      "execution_count": null,
      "outputs": [
        {
          "output_type": "execute_result",
          "data": {
            "text/plain": [
              "<tensorflow_hub.module.Module at 0x7f7920eb0c90>"
            ]
          },
          "metadata": {
            "tags": []
          },
          "execution_count": 32
        }
      ]
    },
    {
      "cell_type": "code",
      "metadata": {
        "id": "WFTfD_bHEPoe",
        "colab": {
          "base_uri": "https://localhost:8080/"
        },
        "outputId": "4137a258-0181-45f6-fb6b-73fb39bb2038"
      },
      "source": [
        "len(bm.variables)"
      ],
      "execution_count": null,
      "outputs": [
        {
          "output_type": "execute_result",
          "data": {
            "text/plain": [
              "204"
            ]
          },
          "metadata": {
            "tags": []
          },
          "execution_count": 33
        }
      ]
    },
    {
      "cell_type": "code",
      "metadata": {
        "id": "8dXh3vvj8s9l"
      },
      "source": [
        "class BertLayer(tf.keras.layers.Layer):\n",
        "    def __init__(self, n_fine_tune_layers=10, **kwargs):\n",
        "        self.n_fine_tune_layers = n_fine_tune_layers\n",
        "        self.trainable = True\n",
        "        self.output_size = 768\n",
        "        super(BertLayer, self).__init__(**kwargs)\n",
        "\n",
        "    def build(self, input_shape):\n",
        "        self.bert = hub.Module(\n",
        "            bert_path,\n",
        "            trainable=self.trainable,\n",
        "            name=\"{}_module\".format(self.name)\n",
        "        )\n",
        "\n",
        "        trainable_vars = self.bert.variables\n",
        "\n",
        "        # Remove unused layers\n",
        "        trainable_vars = [var for var in trainable_vars if not \"/cls/\" in var.name]\n",
        "\n",
        "        # Select how many layers to fine tune\n",
        "        trainable_vars = trainable_vars[-self.n_fine_tune_layers :]\n",
        "\n",
        "        # Add to trainable weights\n",
        "        for var in trainable_vars:\n",
        "            self._trainable_weights.append(var)\n",
        "            \n",
        "        for var in self.bert.variables:\n",
        "            if var not in self._trainable_weights:\n",
        "                self._non_trainable_weights.append(var)\n",
        "\n",
        "        super(BertLayer, self).build(input_shape)\n",
        "\n",
        "    def call(self, inputs):\n",
        "        inputs = [K.cast(x, dtype=\"int32\") for x in inputs]\n",
        "        input_ids, input_mask, segment_ids = inputs\n",
        "        bert_inputs = dict(\n",
        "            input_ids=input_ids, input_mask=input_mask, segment_ids=segment_ids\n",
        "        )\n",
        "        result = self.bert(inputs=bert_inputs, signature=\"tokens\", as_dict=True)[\n",
        "            \"pooled_output\"\n",
        "        ]\n",
        "        return result\n",
        "\n",
        "    def compute_output_shape(self, input_shape):\n",
        "        return (input_shape[0], self.output_size)"
      ],
      "execution_count": null,
      "outputs": []
    },
    {
      "cell_type": "markdown",
      "metadata": {
        "id": "glBuTgXxG5vX"
      },
      "source": [
        "## BERT Classifier Model Architecture"
      ]
    },
    {
      "cell_type": "code",
      "metadata": {
        "id": "edEHrdRtE-Ke"
      },
      "source": [
        "def initialize_vars(sess):\n",
        "    sess = tf.Session()\n",
        "    sess.run(tf.local_variables_initializer())\n",
        "    sess.run(tf.global_variables_initializer())\n",
        "    sess.run(tf.tables_initializer())\n",
        "    K.set_session(sess)"
      ],
      "execution_count": null,
      "outputs": []
    },
    {
      "cell_type": "markdown",
      "metadata": {
        "id": "AjQYn3PuHJIy"
      },
      "source": [
        "## Training BERT Classifier"
      ]
    },
    {
      "cell_type": "markdown",
      "metadata": {
        "id": "vtMZSVtKHTXF"
      },
      "source": [
        "## Evaluating Model Performance"
      ]
    },
    {
      "cell_type": "code",
      "metadata": {
        "id": "2VbjhEbbHlCl"
      },
      "source": [
        "# from sklearn.metrics import confusion_matrix, classification_report\n",
        "\n",
        "# print('Classification Report:')\n",
        "# print(classification_report(y_true=y_test, y_pred=test_pred_labels))"
      ],
      "execution_count": null,
      "outputs": []
    },
    {
      "cell_type": "code",
      "metadata": {
        "id": "SVzsz3F8IUC1"
      },
      "source": [
        "# import seaborn as sns\n",
        "# import matplotlib.pyplot as plt\n",
        "\n",
        "# %matplotlib inline\n",
        "\n",
        "# with tf.Session() as session:\n",
        "#     cm = tf.confusion_matrix(y_test, test_pred_labels).eval()\n",
        "\n",
        "# LABELS = ['negative', 'positive']\n",
        "# sns.heatmap(cm, annot=True, xticklabels=LABELS, yticklabels=LABELS, fmt='g')\n",
        "# xl = plt.xlabel(\"Prediction\")\n",
        "# yl = plt.ylabel(\"Ground truth\")"
      ],
      "execution_count": null,
      "outputs": []
    },
    {
      "cell_type": "markdown",
      "metadata": {
        "id": "jhMq91eKJkfk"
      },
      "source": [
        "## **Image Feature Extraction**"
      ]
    },
    {
      "cell_type": "code",
      "metadata": {
        "id": "aZ7YDzUnL3hF",
        "colab": {
          "base_uri": "https://localhost:8080/"
        },
        "outputId": "e3f6eb93-c93b-478a-80ba-1b87a6f5803f"
      },
      "source": [
        "train_images = [i for i in train_df['first_image_id'].tolist()]\n",
        "test_images = [i.split(',')[0].strip() for i in test_df['image_id'].tolist()]\n",
        "len(test_images)"
      ],
      "execution_count": null,
      "outputs": [
        {
          "output_type": "execute_result",
          "data": {
            "text/plain": [
              "1098"
            ]
          },
          "metadata": {
            "tags": []
          },
          "execution_count": 38
        }
      ]
    },
    {
      "cell_type": "code",
      "metadata": {
        "id": "tgGnJ57dVeU7"
      },
      "source": [
        "images = os.listdir('/content/drive/MyDrive/BTP/Images')\n",
        "images.extend(os.listdir('/content/drive/MyDrive/BTP/TestSet_Images'))\n",
        "jpg = []\n",
        "png=[]\n",
        "jpeg=[]\n",
        "gif = []\n",
        "\n",
        "for i in images:\n",
        "    name,ext = i.split('.')[0],i.split('.')[-1]\n",
        "    eval(ext).append(name)"
      ],
      "execution_count": null,
      "outputs": []
    },
    {
      "cell_type": "code",
      "metadata": {
        "id": "AMmDDH7UVx6x"
      },
      "source": [
        "def extension_of_file(file_name):\n",
        "    if file_name in jpg:\n",
        "        return '.jpg'\n",
        "    elif file_name in png:\n",
        "        return '.png'\n",
        "    elif file_name in jpeg:\n",
        "        return '.jpeg'\n",
        "    else:\n",
        "        return '.gif'"
      ],
      "execution_count": null,
      "outputs": []
    },
    {
      "cell_type": "code",
      "metadata": {
        "id": "nm-DJINmemu7",
        "colab": {
          "base_uri": "https://localhost:8080/"
        },
        "outputId": "ca4ee7ac-8b0b-4411-fa12-bd0ce0fddebd"
      },
      "source": [
        "sample= os.listdir('/content/drive/MyDrive/BTP/Images/')\n",
        "\n",
        "train_images=['/content/drive/MyDrive/BTP/Images/'+i+extension_of_file(i) for i in train_images]\n",
        "\n",
        "len(train_images)"
      ],
      "execution_count": null,
      "outputs": [
        {
          "output_type": "execute_result",
          "data": {
            "text/plain": [
              "13241"
            ]
          },
          "metadata": {
            "tags": []
          },
          "execution_count": 41
        }
      ]
    },
    {
      "cell_type": "code",
      "metadata": {
        "id": "XBtQcinELWGy",
        "colab": {
          "base_uri": "https://localhost:8080/"
        },
        "outputId": "bca633f7-591f-4f8a-fcdd-c677f153983c"
      },
      "source": [
        "len(train_images)"
      ],
      "execution_count": null,
      "outputs": [
        {
          "output_type": "execute_result",
          "data": {
            "text/plain": [
              "13241"
            ]
          },
          "metadata": {
            "tags": []
          },
          "execution_count": 42
        }
      ]
    },
    {
      "cell_type": "code",
      "metadata": {
        "id": "K8Ogc_AMgixO",
        "colab": {
          "base_uri": "https://localhost:8080/"
        },
        "outputId": "10cd55f3-4c94-4e71-82dd-38f8178c2df8"
      },
      "source": [
        "sample= os.listdir('/content/drive/MyDrive/BTP/TestSet_Images/')\n",
        "\n",
        "test_images=['/content/drive/MyDrive/BTP/TestSet_Images/'+i+extension_of_file(i) for i in test_images]\n",
        "\n",
        "len(test_images)"
      ],
      "execution_count": null,
      "outputs": [
        {
          "output_type": "execute_result",
          "data": {
            "text/plain": [
              "1098"
            ]
          },
          "metadata": {
            "tags": []
          },
          "execution_count": 43
        }
      ]
    },
    {
      "cell_type": "code",
      "metadata": {
        "id": "ExnJ8n0og9wI",
        "colab": {
          "base_uri": "https://localhost:8080/",
          "height": 154,
          "referenced_widgets": [
            "8d0c6bf9708141d0bd7526e6fd42b6b3",
            "3adb5b44e8c444cba847b8c5bdea4c52",
            "1279403d90ae42ea8a4b78a7fd48bdad",
            "e428097fceed4182a3187e279ad673de",
            "cb3bb2f0658a438fa3e6a0eec34605b2",
            "0b97c999a85446cfa125cb47a46bb568",
            "f9edbd3822454330a998733610b79d78",
            "5dfac2a9e41746619e597a1587c04a4d"
          ]
        },
        "outputId": "a007efc8-f261-414a-ad72-57fcea8f646d"
      },
      "source": [
        "from tqdm import tqdm_notebook as tqdm\n",
        "tqdm().pandas()\n",
        "from tqdm import tqdm_notebook\n",
        "def image_processing(list_of_images):\n",
        "  X = [] \n",
        "  for image in tqdm(list_of_images):\n",
        "      # im = cv2.imread(image, cv2.IMREAD_COLOR)\n",
        "      # if type(im) is np.ndarray:\n",
        "      #   if im.size == 0:\n",
        "      #     continue\n",
        "      # if im is None:\n",
        "      #   continue\n",
        "   X.append(cv2.resize(cv2.imread(image, cv2.IMREAD_COLOR), (224,224), interpolation=cv2.INTER_CUBIC))  \n",
        "  return X"
      ],
      "execution_count": null,
      "outputs": [
        {
          "output_type": "stream",
          "text": [
            "/usr/local/lib/python3.7/dist-packages/ipykernel_launcher.py:2: TqdmDeprecationWarning: This function will be removed in tqdm==5.0.0\n",
            "Please use `tqdm.notebook.tqdm` instead of `tqdm.tqdm_notebook`\n",
            "  \n"
          ],
          "name": "stderr"
        },
        {
          "output_type": "display_data",
          "data": {
            "application/vnd.jupyter.widget-view+json": {
              "model_id": "8d0c6bf9708141d0bd7526e6fd42b6b3",
              "version_minor": 0,
              "version_major": 2
            },
            "text/plain": [
              "HBox(children=(FloatProgress(value=1.0, bar_style='info', max=1.0), HTML(value='')))"
            ]
          },
          "metadata": {
            "tags": []
          }
        },
        {
          "output_type": "stream",
          "text": [
            "/usr/local/lib/python3.7/dist-packages/tqdm/std.py:658: FutureWarning: The Panel class is removed from pandas. Accessing it from the top-level namespace will also be removed in the next version\n",
            "  from pandas import Panel\n"
          ],
          "name": "stderr"
        }
      ]
    },
    {
      "cell_type": "code",
      "metadata": {
        "id": "SPL8mNwchdNz",
        "colab": {
          "base_uri": "https://localhost:8080/",
          "height": 134,
          "referenced_widgets": [
            "9d31bdeef64e4a5082e96a9e22013ebc",
            "11d32d29571940b18e8598dadaa97556",
            "df6ac49abe35484d86b0f315aafa36d4",
            "acb9d94f9c9b4c73ba5888d0e36170cc",
            "61c641b8e50e456ea745aec8ad77ff99",
            "06b652d7fed34d418fdcb6287cf76aa3",
            "c93ffabff8644794a3f2a6e6c1809d57",
            "c38ddc7219fc407689fe70ea2d07e60b"
          ]
        },
        "outputId": "037dac44-b44c-43fe-9d13-84fb34907f48"
      },
      "source": [
        "train_imagesX = image_processing(train_images)"
      ],
      "execution_count": null,
      "outputs": [
        {
          "output_type": "stream",
          "text": [
            "\n"
          ],
          "name": "stdout"
        },
        {
          "output_type": "stream",
          "text": [
            "/usr/local/lib/python3.7/dist-packages/ipykernel_launcher.py:6: TqdmDeprecationWarning: This function will be removed in tqdm==5.0.0\n",
            "Please use `tqdm.notebook.tqdm` instead of `tqdm.tqdm_notebook`\n",
            "  \n"
          ],
          "name": "stderr"
        },
        {
          "output_type": "display_data",
          "data": {
            "application/vnd.jupyter.widget-view+json": {
              "model_id": "9d31bdeef64e4a5082e96a9e22013ebc",
              "version_minor": 0,
              "version_major": 2
            },
            "text/plain": [
              "HBox(children=(FloatProgress(value=0.0, max=13241.0), HTML(value='')))"
            ]
          },
          "metadata": {
            "tags": []
          }
        },
        {
          "output_type": "stream",
          "text": [
            "\n"
          ],
          "name": "stdout"
        }
      ]
    },
    {
      "cell_type": "code",
      "metadata": {
        "id": "oV9qKub168p0",
        "colab": {
          "base_uri": "https://localhost:8080/",
          "height": 117,
          "referenced_widgets": [
            "630c9350dde14e4fb3dd8f9b70ce61e1",
            "2c0be148a3c04dfeaca30725d7177fd8",
            "c3257b12ed214ec4a52017564b235d31",
            "401becc2da694f99a1a12ad4cb2d2712",
            "9b7caa998c1a4622916cf94b1d8ad87d",
            "700933439f194b74a07402334bcb08a1",
            "63d144236bc44e329108698b2f9d975d",
            "636bd7287a8e42b79b545db89049b214"
          ]
        },
        "outputId": "4801e856-4390-462a-ad56-ffb41876306b"
      },
      "source": [
        "test_imagesX = image_processing(test_images)"
      ],
      "execution_count": null,
      "outputs": [
        {
          "output_type": "stream",
          "text": [
            "/usr/local/lib/python3.7/dist-packages/ipykernel_launcher.py:6: TqdmDeprecationWarning: This function will be removed in tqdm==5.0.0\n",
            "Please use `tqdm.notebook.tqdm` instead of `tqdm.tqdm_notebook`\n",
            "  \n"
          ],
          "name": "stderr"
        },
        {
          "output_type": "display_data",
          "data": {
            "application/vnd.jupyter.widget-view+json": {
              "model_id": "630c9350dde14e4fb3dd8f9b70ce61e1",
              "version_minor": 0,
              "version_major": 2
            },
            "text/plain": [
              "HBox(children=(FloatProgress(value=0.0, max=1098.0), HTML(value='')))"
            ]
          },
          "metadata": {
            "tags": []
          }
        },
        {
          "output_type": "stream",
          "text": [
            "\n"
          ],
          "name": "stdout"
        }
      ]
    },
    {
      "cell_type": "code",
      "metadata": {
        "id": "yppT87RAaj9t",
        "colab": {
          "base_uri": "https://localhost:8080/"
        },
        "outputId": "684bbf9a-58b4-4dea-e0f2-ced38a85a694"
      },
      "source": [
        "len(train_imagesX)"
      ],
      "execution_count": null,
      "outputs": [
        {
          "output_type": "execute_result",
          "data": {
            "text/plain": [
              "13241"
            ]
          },
          "metadata": {
            "tags": []
          },
          "execution_count": 47
        }
      ]
    },
    {
      "cell_type": "code",
      "metadata": {
        "id": "zA9_aIGU4yxg"
      },
      "source": [
        "np.save('train_imagesX.npy', train_imagesX)\n",
        "np.save('test_imagesX.npy', test_imagesX)"
      ],
      "execution_count": null,
      "outputs": []
    },
    {
      "cell_type": "code",
      "metadata": {
        "id": "H5XRAmTw43ju"
      },
      "source": [
        "train_imagesX = np.load('train_imagesX.npy')\n",
        "test_imagesX = np.load('test_imagesX.npy')"
      ],
      "execution_count": null,
      "outputs": []
    },
    {
      "cell_type": "code",
      "metadata": {
        "id": "9-qiRemJ5AuP",
        "colab": {
          "base_uri": "https://localhost:8080/"
        },
        "outputId": "9bc88e20-cec5-4a7b-e2c2-2b37dd5f6cbc"
      },
      "source": [
        "train_imagesX"
      ],
      "execution_count": null,
      "outputs": [
        {
          "output_type": "execute_result",
          "data": {
            "text/plain": [
              "array([[[[148, 157, 160],\n",
              "         [149, 156, 159],\n",
              "         [149, 156, 159],\n",
              "         ...,\n",
              "         [255, 255, 255],\n",
              "         [255, 255, 255],\n",
              "         [255, 255, 255]],\n",
              "\n",
              "        [[148, 157, 160],\n",
              "         [149, 156, 159],\n",
              "         [149, 156, 159],\n",
              "         ...,\n",
              "         [255, 255, 255],\n",
              "         [255, 255, 255],\n",
              "         [255, 255, 255]],\n",
              "\n",
              "        [[148, 157, 160],\n",
              "         [149, 156, 159],\n",
              "         [149, 156, 159],\n",
              "         ...,\n",
              "         [255, 255, 255],\n",
              "         [255, 255, 255],\n",
              "         [255, 255, 255]],\n",
              "\n",
              "        ...,\n",
              "\n",
              "        [[255, 255, 255],\n",
              "         [255, 255, 255],\n",
              "         [255, 255, 255],\n",
              "         ...,\n",
              "         [255, 255, 255],\n",
              "         [255, 255, 255],\n",
              "         [255, 255, 255]],\n",
              "\n",
              "        [[255, 255, 255],\n",
              "         [255, 255, 255],\n",
              "         [255, 255, 255],\n",
              "         ...,\n",
              "         [255, 255, 255],\n",
              "         [255, 255, 255],\n",
              "         [255, 255, 255]],\n",
              "\n",
              "        [[255, 255, 255],\n",
              "         [255, 255, 255],\n",
              "         [255, 255, 255],\n",
              "         ...,\n",
              "         [255, 255, 255],\n",
              "         [255, 255, 255],\n",
              "         [255, 255, 255]]],\n",
              "\n",
              "\n",
              "       [[[ 27,  27,  35],\n",
              "         [ 24,  23,  31],\n",
              "         [ 18,  18,  25],\n",
              "         ...,\n",
              "         [ 48,  62,  83],\n",
              "         [ 40,  56,  76],\n",
              "         [ 60,  79,  99]],\n",
              "\n",
              "        [[ 24,  24,  32],\n",
              "         [ 22,  22,  30],\n",
              "         [ 17,  17,  24],\n",
              "         ...,\n",
              "         [ 49,  63,  84],\n",
              "         [ 41,  57,  77],\n",
              "         [ 55,  76,  95]],\n",
              "\n",
              "        [[ 23,  23,  30],\n",
              "         [ 21,  21,  29],\n",
              "         [ 17,  16,  23],\n",
              "         ...,\n",
              "         [ 46,  61,  82],\n",
              "         [ 40,  56,  76],\n",
              "         [ 49,  69,  89]],\n",
              "\n",
              "        ...,\n",
              "\n",
              "        [[ 96, 122, 137],\n",
              "         [ 85, 110, 119],\n",
              "         [ 67,  91,  96],\n",
              "         ...,\n",
              "         [ 43,  37,  35],\n",
              "         [ 39,  33,  35],\n",
              "         [ 35,  28,  31]],\n",
              "\n",
              "        [[ 97, 123, 140],\n",
              "         [ 89, 115, 126],\n",
              "         [ 75,  99, 104],\n",
              "         ...,\n",
              "         [ 45,  39,  36],\n",
              "         [ 42,  36,  35],\n",
              "         [ 38,  29,  32]],\n",
              "\n",
              "        [[108, 130, 148],\n",
              "         [103, 124, 137],\n",
              "         [ 91, 111, 120],\n",
              "         ...,\n",
              "         [ 39,  36,  30],\n",
              "         [ 40,  33,  30],\n",
              "         [ 42,  31,  33]]],\n",
              "\n",
              "\n",
              "       [[[ 18,  15,  11],\n",
              "         [ 20,  17,  13],\n",
              "         [ 22,  19,  15],\n",
              "         ...,\n",
              "         [136, 131, 132],\n",
              "         [136, 133, 135],\n",
              "         [137, 133, 138]],\n",
              "\n",
              "        [[ 20,  17,  13],\n",
              "         [ 22,  19,  15],\n",
              "         [ 22,  19,  15],\n",
              "         ...,\n",
              "         [133, 128, 129],\n",
              "         [132, 129, 131],\n",
              "         [133, 131, 133]],\n",
              "\n",
              "        [[ 16,  13,   9],\n",
              "         [ 17,  14,  10],\n",
              "         [ 17,  14,  10],\n",
              "         ...,\n",
              "         [136, 132, 131],\n",
              "         [135, 133, 133],\n",
              "         [128, 125, 127]],\n",
              "\n",
              "        ...,\n",
              "\n",
              "        [[255, 255, 255],\n",
              "         [255, 255, 255],\n",
              "         [255, 255, 255],\n",
              "         ...,\n",
              "         [255, 255, 255],\n",
              "         [255, 255, 255],\n",
              "         [255, 255, 255]],\n",
              "\n",
              "        [[255, 255, 255],\n",
              "         [255, 255, 255],\n",
              "         [255, 255, 255],\n",
              "         ...,\n",
              "         [255, 255, 255],\n",
              "         [255, 255, 255],\n",
              "         [255, 255, 255]],\n",
              "\n",
              "        [[255, 255, 255],\n",
              "         [255, 255, 255],\n",
              "         [255, 255, 255],\n",
              "         ...,\n",
              "         [255, 255, 255],\n",
              "         [255, 255, 255],\n",
              "         [255, 255, 255]]],\n",
              "\n",
              "\n",
              "       ...,\n",
              "\n",
              "\n",
              "       [[[255, 255, 255],\n",
              "         [255, 255, 255],\n",
              "         [255, 255, 255],\n",
              "         ...,\n",
              "         [211, 207, 189],\n",
              "         [213, 209, 191],\n",
              "         [209, 205, 187]],\n",
              "\n",
              "        [[255, 255, 255],\n",
              "         [255, 255, 255],\n",
              "         [255, 255, 255],\n",
              "         ...,\n",
              "         [211, 207, 189],\n",
              "         [213, 209, 191],\n",
              "         [209, 205, 187]],\n",
              "\n",
              "        [[255, 255, 255],\n",
              "         [255, 255, 255],\n",
              "         [255, 255, 255],\n",
              "         ...,\n",
              "         [211, 207, 189],\n",
              "         [213, 209, 191],\n",
              "         [209, 205, 187]],\n",
              "\n",
              "        ...,\n",
              "\n",
              "        [[143, 128, 112],\n",
              "         [143, 128, 112],\n",
              "         [143, 128, 112],\n",
              "         ...,\n",
              "         [ 72,  88, 100],\n",
              "         [ 73,  89, 102],\n",
              "         [ 75,  91, 104]],\n",
              "\n",
              "        [[144, 128, 112],\n",
              "         [144, 128, 112],\n",
              "         [144, 128, 112],\n",
              "         ...,\n",
              "         [ 73,  89, 101],\n",
              "         [ 74,  91, 100],\n",
              "         [ 74,  91, 100]],\n",
              "\n",
              "        [[141, 125, 109],\n",
              "         [141, 127, 111],\n",
              "         [140, 127, 112],\n",
              "         ...,\n",
              "         [ 76,  92, 104],\n",
              "         [ 75,  91, 102],\n",
              "         [ 76,  92, 104]]],\n",
              "\n",
              "\n",
              "       [[[255, 255, 255],\n",
              "         [255, 255, 255],\n",
              "         [255, 255, 255],\n",
              "         ...,\n",
              "         [211, 207, 189],\n",
              "         [213, 209, 191],\n",
              "         [209, 205, 187]],\n",
              "\n",
              "        [[255, 255, 255],\n",
              "         [255, 255, 255],\n",
              "         [255, 255, 255],\n",
              "         ...,\n",
              "         [211, 207, 189],\n",
              "         [213, 209, 191],\n",
              "         [209, 205, 187]],\n",
              "\n",
              "        [[255, 255, 255],\n",
              "         [255, 255, 255],\n",
              "         [255, 255, 255],\n",
              "         ...,\n",
              "         [211, 207, 189],\n",
              "         [213, 209, 191],\n",
              "         [209, 205, 187]],\n",
              "\n",
              "        ...,\n",
              "\n",
              "        [[143, 128, 112],\n",
              "         [143, 128, 112],\n",
              "         [143, 128, 112],\n",
              "         ...,\n",
              "         [ 72,  88, 100],\n",
              "         [ 73,  89, 102],\n",
              "         [ 75,  91, 104]],\n",
              "\n",
              "        [[144, 128, 112],\n",
              "         [144, 128, 112],\n",
              "         [144, 128, 112],\n",
              "         ...,\n",
              "         [ 73,  89, 101],\n",
              "         [ 74,  91, 100],\n",
              "         [ 74,  91, 100]],\n",
              "\n",
              "        [[141, 125, 109],\n",
              "         [141, 127, 111],\n",
              "         [140, 127, 112],\n",
              "         ...,\n",
              "         [ 76,  92, 104],\n",
              "         [ 75,  91, 102],\n",
              "         [ 76,  92, 104]]],\n",
              "\n",
              "\n",
              "       [[[255, 255, 255],\n",
              "         [255, 255, 255],\n",
              "         [255, 255, 255],\n",
              "         ...,\n",
              "         [211, 207, 189],\n",
              "         [213, 209, 191],\n",
              "         [209, 205, 187]],\n",
              "\n",
              "        [[255, 255, 255],\n",
              "         [255, 255, 255],\n",
              "         [255, 255, 255],\n",
              "         ...,\n",
              "         [211, 207, 189],\n",
              "         [213, 209, 191],\n",
              "         [209, 205, 187]],\n",
              "\n",
              "        [[255, 255, 255],\n",
              "         [255, 255, 255],\n",
              "         [255, 255, 255],\n",
              "         ...,\n",
              "         [211, 207, 189],\n",
              "         [213, 209, 191],\n",
              "         [209, 205, 187]],\n",
              "\n",
              "        ...,\n",
              "\n",
              "        [[143, 128, 112],\n",
              "         [143, 128, 112],\n",
              "         [143, 128, 112],\n",
              "         ...,\n",
              "         [ 72,  88, 100],\n",
              "         [ 73,  89, 102],\n",
              "         [ 75,  91, 104]],\n",
              "\n",
              "        [[144, 128, 112],\n",
              "         [144, 128, 112],\n",
              "         [144, 128, 112],\n",
              "         ...,\n",
              "         [ 73,  89, 101],\n",
              "         [ 74,  91, 100],\n",
              "         [ 74,  91, 100]],\n",
              "\n",
              "        [[141, 125, 109],\n",
              "         [141, 127, 111],\n",
              "         [140, 127, 112],\n",
              "         ...,\n",
              "         [ 76,  92, 104],\n",
              "         [ 75,  91, 102],\n",
              "         [ 76,  92, 104]]]], dtype=uint8)"
            ]
          },
          "metadata": {
            "tags": []
          },
          "execution_count": 50
        }
      ]
    },
    {
      "cell_type": "code",
      "metadata": {
        "id": "dV3YpoBP6mnU",
        "colab": {
          "base_uri": "https://localhost:8080/"
        },
        "outputId": "feb4d973-e810-4577-e6ed-e2e175b4c0e6"
      },
      "source": [
        "test_imagesX"
      ],
      "execution_count": null,
      "outputs": [
        {
          "output_type": "execute_result",
          "data": {
            "text/plain": [
              "array([[[[ 30,  23,  28],\n",
              "         [ 29,  21,  28],\n",
              "         [ 29,  20,  29],\n",
              "         ...,\n",
              "         [ 69,  68, 102],\n",
              "         [ 71,  70, 108],\n",
              "         [ 79,  78, 118]],\n",
              "\n",
              "        [[ 31,  20,  35],\n",
              "         [ 30,  20,  34],\n",
              "         [ 29,  19,  33],\n",
              "         ...,\n",
              "         [ 32,  31,  65],\n",
              "         [ 28,  28,  65],\n",
              "         [ 48,  47,  87]],\n",
              "\n",
              "        [[ 29,  15,  39],\n",
              "         [ 32,  20,  41],\n",
              "         [ 32,  20,  39],\n",
              "         ...,\n",
              "         [ 44,  42,  77],\n",
              "         [ 34,  34,  70],\n",
              "         [ 83,  82, 123]],\n",
              "\n",
              "        ...,\n",
              "\n",
              "        [[ 42,  35,  57],\n",
              "         [ 35,  28,  49],\n",
              "         [ 29,  22,  48],\n",
              "         ...,\n",
              "         [221, 186, 133],\n",
              "         [248, 219, 161],\n",
              "         [255, 233, 172]],\n",
              "\n",
              "        [[ 38,  28,  57],\n",
              "         [ 43,  33,  60],\n",
              "         [ 36,  26,  52],\n",
              "         ...,\n",
              "         [108,  56,  10],\n",
              "         [112,  67,  14],\n",
              "         [125,  86,  26]],\n",
              "\n",
              "        [[ 31,  20,  53],\n",
              "         [ 41,  30,  59],\n",
              "         [ 51,  39,  64],\n",
              "         ...,\n",
              "         [212, 141,  99],\n",
              "         [217, 154, 104],\n",
              "         [225, 167, 111]]],\n",
              "\n",
              "\n",
              "       [[[ 30,  23,  28],\n",
              "         [ 29,  21,  28],\n",
              "         [ 29,  20,  29],\n",
              "         ...,\n",
              "         [ 69,  68, 102],\n",
              "         [ 71,  70, 108],\n",
              "         [ 79,  78, 118]],\n",
              "\n",
              "        [[ 31,  20,  35],\n",
              "         [ 30,  20,  34],\n",
              "         [ 29,  19,  33],\n",
              "         ...,\n",
              "         [ 32,  31,  65],\n",
              "         [ 28,  28,  65],\n",
              "         [ 48,  47,  87]],\n",
              "\n",
              "        [[ 29,  15,  39],\n",
              "         [ 32,  20,  41],\n",
              "         [ 32,  20,  39],\n",
              "         ...,\n",
              "         [ 44,  42,  77],\n",
              "         [ 34,  34,  70],\n",
              "         [ 83,  82, 123]],\n",
              "\n",
              "        ...,\n",
              "\n",
              "        [[ 42,  35,  57],\n",
              "         [ 35,  28,  49],\n",
              "         [ 29,  22,  48],\n",
              "         ...,\n",
              "         [221, 186, 133],\n",
              "         [248, 219, 161],\n",
              "         [255, 233, 172]],\n",
              "\n",
              "        [[ 38,  28,  57],\n",
              "         [ 43,  33,  60],\n",
              "         [ 36,  26,  52],\n",
              "         ...,\n",
              "         [108,  56,  10],\n",
              "         [112,  67,  14],\n",
              "         [125,  86,  26]],\n",
              "\n",
              "        [[ 31,  20,  53],\n",
              "         [ 41,  30,  59],\n",
              "         [ 51,  39,  64],\n",
              "         ...,\n",
              "         [212, 141,  99],\n",
              "         [217, 154, 104],\n",
              "         [225, 167, 111]]],\n",
              "\n",
              "\n",
              "       [[[ 30,  23,  28],\n",
              "         [ 29,  21,  28],\n",
              "         [ 29,  20,  29],\n",
              "         ...,\n",
              "         [ 69,  68, 102],\n",
              "         [ 71,  70, 108],\n",
              "         [ 79,  78, 118]],\n",
              "\n",
              "        [[ 31,  20,  35],\n",
              "         [ 30,  20,  34],\n",
              "         [ 29,  19,  33],\n",
              "         ...,\n",
              "         [ 32,  31,  65],\n",
              "         [ 28,  28,  65],\n",
              "         [ 48,  47,  87]],\n",
              "\n",
              "        [[ 29,  15,  39],\n",
              "         [ 32,  20,  41],\n",
              "         [ 32,  20,  39],\n",
              "         ...,\n",
              "         [ 44,  42,  77],\n",
              "         [ 34,  34,  70],\n",
              "         [ 83,  82, 123]],\n",
              "\n",
              "        ...,\n",
              "\n",
              "        [[ 42,  35,  57],\n",
              "         [ 35,  28,  49],\n",
              "         [ 29,  22,  48],\n",
              "         ...,\n",
              "         [221, 186, 133],\n",
              "         [248, 219, 161],\n",
              "         [255, 233, 172]],\n",
              "\n",
              "        [[ 38,  28,  57],\n",
              "         [ 43,  33,  60],\n",
              "         [ 36,  26,  52],\n",
              "         ...,\n",
              "         [108,  56,  10],\n",
              "         [112,  67,  14],\n",
              "         [125,  86,  26]],\n",
              "\n",
              "        [[ 31,  20,  53],\n",
              "         [ 41,  30,  59],\n",
              "         [ 51,  39,  64],\n",
              "         ...,\n",
              "         [212, 141,  99],\n",
              "         [217, 154, 104],\n",
              "         [225, 167, 111]]],\n",
              "\n",
              "\n",
              "       ...,\n",
              "\n",
              "\n",
              "       [[[138, 156, 163],\n",
              "         [136, 154, 161],\n",
              "         [133, 151, 158],\n",
              "         ...,\n",
              "         [ 26,  70, 104],\n",
              "         [ 24,  68, 102],\n",
              "         [ 28,  72, 106]],\n",
              "\n",
              "        [[136, 154, 161],\n",
              "         [136, 154, 161],\n",
              "         [135, 153, 160],\n",
              "         ...,\n",
              "         [ 32,  74, 106],\n",
              "         [ 24,  65,  98],\n",
              "         [ 31,  72, 106]],\n",
              "\n",
              "        [[135, 153, 160],\n",
              "         [137, 155, 162],\n",
              "         [135, 153, 160],\n",
              "         ...,\n",
              "         [ 31,  69,  99],\n",
              "         [ 32,  70, 101],\n",
              "         [ 33,  71, 103]],\n",
              "\n",
              "        ...,\n",
              "\n",
              "        [[215, 214, 204],\n",
              "         [213, 206, 199],\n",
              "         [220, 212, 205],\n",
              "         ...,\n",
              "         [ 12,  13,  11],\n",
              "         [ 15,  16,  14],\n",
              "         [ 17,  18,  16]],\n",
              "\n",
              "        [[220, 215, 206],\n",
              "         [208, 201, 194],\n",
              "         [215, 207, 200],\n",
              "         ...,\n",
              "         [ 17,  18,  16],\n",
              "         [ 18,  19,  17],\n",
              "         [ 20,  21,  19]],\n",
              "\n",
              "        [[223, 218, 209],\n",
              "         [209, 202, 195],\n",
              "         [215, 205, 198],\n",
              "         ...,\n",
              "         [ 16,  17,  15],\n",
              "         [ 17,  18,  16],\n",
              "         [ 20,  21,  19]]],\n",
              "\n",
              "\n",
              "       [[[255, 255, 255],\n",
              "         [247, 247, 247],\n",
              "         [253, 255, 255],\n",
              "         ...,\n",
              "         [253, 253, 253],\n",
              "         [247, 245, 245],\n",
              "         [255, 253, 255]],\n",
              "\n",
              "        [[255, 255, 255],\n",
              "         [247, 247, 247],\n",
              "         [253, 255, 255],\n",
              "         ...,\n",
              "         [253, 253, 253],\n",
              "         [247, 245, 245],\n",
              "         [255, 253, 255]],\n",
              "\n",
              "        [[255, 255, 255],\n",
              "         [247, 247, 247],\n",
              "         [253, 255, 255],\n",
              "         ...,\n",
              "         [253, 253, 253],\n",
              "         [247, 245, 245],\n",
              "         [255, 253, 255]],\n",
              "\n",
              "        ...,\n",
              "\n",
              "        [[253, 253, 253],\n",
              "         [243, 243, 243],\n",
              "         [253, 253, 253],\n",
              "         ...,\n",
              "         [253, 253, 253],\n",
              "         [243, 243, 243],\n",
              "         [253, 253, 253]],\n",
              "\n",
              "        [[255, 255, 255],\n",
              "         [237, 237, 237],\n",
              "         [233, 233, 233],\n",
              "         ...,\n",
              "         [233, 233, 233],\n",
              "         [237, 237, 237],\n",
              "         [255, 255, 255]],\n",
              "\n",
              "        [[255, 255, 255],\n",
              "         [249, 249, 249],\n",
              "         [250, 250, 250],\n",
              "         ...,\n",
              "         [250, 250, 250],\n",
              "         [249, 249, 249],\n",
              "         [255, 255, 255]]],\n",
              "\n",
              "\n",
              "       [[[255, 255, 255],\n",
              "         [247, 247, 247],\n",
              "         [253, 255, 255],\n",
              "         ...,\n",
              "         [253, 253, 253],\n",
              "         [247, 245, 245],\n",
              "         [255, 253, 255]],\n",
              "\n",
              "        [[255, 255, 255],\n",
              "         [247, 247, 247],\n",
              "         [253, 255, 255],\n",
              "         ...,\n",
              "         [253, 253, 253],\n",
              "         [247, 245, 245],\n",
              "         [255, 253, 255]],\n",
              "\n",
              "        [[255, 255, 255],\n",
              "         [247, 247, 247],\n",
              "         [253, 255, 255],\n",
              "         ...,\n",
              "         [253, 253, 253],\n",
              "         [247, 245, 245],\n",
              "         [255, 253, 255]],\n",
              "\n",
              "        ...,\n",
              "\n",
              "        [[253, 253, 253],\n",
              "         [243, 243, 243],\n",
              "         [253, 253, 253],\n",
              "         ...,\n",
              "         [253, 253, 253],\n",
              "         [243, 243, 243],\n",
              "         [253, 253, 253]],\n",
              "\n",
              "        [[255, 255, 255],\n",
              "         [237, 237, 237],\n",
              "         [233, 233, 233],\n",
              "         ...,\n",
              "         [233, 233, 233],\n",
              "         [237, 237, 237],\n",
              "         [255, 255, 255]],\n",
              "\n",
              "        [[255, 255, 255],\n",
              "         [249, 249, 249],\n",
              "         [250, 250, 250],\n",
              "         ...,\n",
              "         [250, 250, 250],\n",
              "         [249, 249, 249],\n",
              "         [255, 255, 255]]]], dtype=uint8)"
            ]
          },
          "metadata": {
            "tags": []
          },
          "execution_count": 51
        }
      ]
    },
    {
      "cell_type": "code",
      "metadata": {
        "id": "GigEGrUy6dfA",
        "colab": {
          "base_uri": "https://localhost:8080/"
        },
        "outputId": "4e9dbb98-ce92-4a86-9006-0842bb75ae77"
      },
      "source": [
        "train_images_fin = np.rollaxis(train_imagesX, 3, 1)\n",
        "train_images_fin"
      ],
      "execution_count": null,
      "outputs": [
        {
          "output_type": "execute_result",
          "data": {
            "text/plain": [
              "array([[[[148, 149, 149, ..., 255, 255, 255],\n",
              "         [148, 149, 149, ..., 255, 255, 255],\n",
              "         [148, 149, 149, ..., 255, 255, 255],\n",
              "         ...,\n",
              "         [255, 255, 255, ..., 255, 255, 255],\n",
              "         [255, 255, 255, ..., 255, 255, 255],\n",
              "         [255, 255, 255, ..., 255, 255, 255]],\n",
              "\n",
              "        [[157, 156, 156, ..., 255, 255, 255],\n",
              "         [157, 156, 156, ..., 255, 255, 255],\n",
              "         [157, 156, 156, ..., 255, 255, 255],\n",
              "         ...,\n",
              "         [255, 255, 255, ..., 255, 255, 255],\n",
              "         [255, 255, 255, ..., 255, 255, 255],\n",
              "         [255, 255, 255, ..., 255, 255, 255]],\n",
              "\n",
              "        [[160, 159, 159, ..., 255, 255, 255],\n",
              "         [160, 159, 159, ..., 255, 255, 255],\n",
              "         [160, 159, 159, ..., 255, 255, 255],\n",
              "         ...,\n",
              "         [255, 255, 255, ..., 255, 255, 255],\n",
              "         [255, 255, 255, ..., 255, 255, 255],\n",
              "         [255, 255, 255, ..., 255, 255, 255]]],\n",
              "\n",
              "\n",
              "       [[[ 27,  24,  18, ...,  48,  40,  60],\n",
              "         [ 24,  22,  17, ...,  49,  41,  55],\n",
              "         [ 23,  21,  17, ...,  46,  40,  49],\n",
              "         ...,\n",
              "         [ 96,  85,  67, ...,  43,  39,  35],\n",
              "         [ 97,  89,  75, ...,  45,  42,  38],\n",
              "         [108, 103,  91, ...,  39,  40,  42]],\n",
              "\n",
              "        [[ 27,  23,  18, ...,  62,  56,  79],\n",
              "         [ 24,  22,  17, ...,  63,  57,  76],\n",
              "         [ 23,  21,  16, ...,  61,  56,  69],\n",
              "         ...,\n",
              "         [122, 110,  91, ...,  37,  33,  28],\n",
              "         [123, 115,  99, ...,  39,  36,  29],\n",
              "         [130, 124, 111, ...,  36,  33,  31]],\n",
              "\n",
              "        [[ 35,  31,  25, ...,  83,  76,  99],\n",
              "         [ 32,  30,  24, ...,  84,  77,  95],\n",
              "         [ 30,  29,  23, ...,  82,  76,  89],\n",
              "         ...,\n",
              "         [137, 119,  96, ...,  35,  35,  31],\n",
              "         [140, 126, 104, ...,  36,  35,  32],\n",
              "         [148, 137, 120, ...,  30,  30,  33]]],\n",
              "\n",
              "\n",
              "       [[[ 18,  20,  22, ..., 136, 136, 137],\n",
              "         [ 20,  22,  22, ..., 133, 132, 133],\n",
              "         [ 16,  17,  17, ..., 136, 135, 128],\n",
              "         ...,\n",
              "         [255, 255, 255, ..., 255, 255, 255],\n",
              "         [255, 255, 255, ..., 255, 255, 255],\n",
              "         [255, 255, 255, ..., 255, 255, 255]],\n",
              "\n",
              "        [[ 15,  17,  19, ..., 131, 133, 133],\n",
              "         [ 17,  19,  19, ..., 128, 129, 131],\n",
              "         [ 13,  14,  14, ..., 132, 133, 125],\n",
              "         ...,\n",
              "         [255, 255, 255, ..., 255, 255, 255],\n",
              "         [255, 255, 255, ..., 255, 255, 255],\n",
              "         [255, 255, 255, ..., 255, 255, 255]],\n",
              "\n",
              "        [[ 11,  13,  15, ..., 132, 135, 138],\n",
              "         [ 13,  15,  15, ..., 129, 131, 133],\n",
              "         [  9,  10,  10, ..., 131, 133, 127],\n",
              "         ...,\n",
              "         [255, 255, 255, ..., 255, 255, 255],\n",
              "         [255, 255, 255, ..., 255, 255, 255],\n",
              "         [255, 255, 255, ..., 255, 255, 255]]],\n",
              "\n",
              "\n",
              "       ...,\n",
              "\n",
              "\n",
              "       [[[255, 255, 255, ..., 211, 213, 209],\n",
              "         [255, 255, 255, ..., 211, 213, 209],\n",
              "         [255, 255, 255, ..., 211, 213, 209],\n",
              "         ...,\n",
              "         [143, 143, 143, ...,  72,  73,  75],\n",
              "         [144, 144, 144, ...,  73,  74,  74],\n",
              "         [141, 141, 140, ...,  76,  75,  76]],\n",
              "\n",
              "        [[255, 255, 255, ..., 207, 209, 205],\n",
              "         [255, 255, 255, ..., 207, 209, 205],\n",
              "         [255, 255, 255, ..., 207, 209, 205],\n",
              "         ...,\n",
              "         [128, 128, 128, ...,  88,  89,  91],\n",
              "         [128, 128, 128, ...,  89,  91,  91],\n",
              "         [125, 127, 127, ...,  92,  91,  92]],\n",
              "\n",
              "        [[255, 255, 255, ..., 189, 191, 187],\n",
              "         [255, 255, 255, ..., 189, 191, 187],\n",
              "         [255, 255, 255, ..., 189, 191, 187],\n",
              "         ...,\n",
              "         [112, 112, 112, ..., 100, 102, 104],\n",
              "         [112, 112, 112, ..., 101, 100, 100],\n",
              "         [109, 111, 112, ..., 104, 102, 104]]],\n",
              "\n",
              "\n",
              "       [[[255, 255, 255, ..., 211, 213, 209],\n",
              "         [255, 255, 255, ..., 211, 213, 209],\n",
              "         [255, 255, 255, ..., 211, 213, 209],\n",
              "         ...,\n",
              "         [143, 143, 143, ...,  72,  73,  75],\n",
              "         [144, 144, 144, ...,  73,  74,  74],\n",
              "         [141, 141, 140, ...,  76,  75,  76]],\n",
              "\n",
              "        [[255, 255, 255, ..., 207, 209, 205],\n",
              "         [255, 255, 255, ..., 207, 209, 205],\n",
              "         [255, 255, 255, ..., 207, 209, 205],\n",
              "         ...,\n",
              "         [128, 128, 128, ...,  88,  89,  91],\n",
              "         [128, 128, 128, ...,  89,  91,  91],\n",
              "         [125, 127, 127, ...,  92,  91,  92]],\n",
              "\n",
              "        [[255, 255, 255, ..., 189, 191, 187],\n",
              "         [255, 255, 255, ..., 189, 191, 187],\n",
              "         [255, 255, 255, ..., 189, 191, 187],\n",
              "         ...,\n",
              "         [112, 112, 112, ..., 100, 102, 104],\n",
              "         [112, 112, 112, ..., 101, 100, 100],\n",
              "         [109, 111, 112, ..., 104, 102, 104]]],\n",
              "\n",
              "\n",
              "       [[[255, 255, 255, ..., 211, 213, 209],\n",
              "         [255, 255, 255, ..., 211, 213, 209],\n",
              "         [255, 255, 255, ..., 211, 213, 209],\n",
              "         ...,\n",
              "         [143, 143, 143, ...,  72,  73,  75],\n",
              "         [144, 144, 144, ...,  73,  74,  74],\n",
              "         [141, 141, 140, ...,  76,  75,  76]],\n",
              "\n",
              "        [[255, 255, 255, ..., 207, 209, 205],\n",
              "         [255, 255, 255, ..., 207, 209, 205],\n",
              "         [255, 255, 255, ..., 207, 209, 205],\n",
              "         ...,\n",
              "         [128, 128, 128, ...,  88,  89,  91],\n",
              "         [128, 128, 128, ...,  89,  91,  91],\n",
              "         [125, 127, 127, ...,  92,  91,  92]],\n",
              "\n",
              "        [[255, 255, 255, ..., 189, 191, 187],\n",
              "         [255, 255, 255, ..., 189, 191, 187],\n",
              "         [255, 255, 255, ..., 189, 191, 187],\n",
              "         ...,\n",
              "         [112, 112, 112, ..., 100, 102, 104],\n",
              "         [112, 112, 112, ..., 101, 100, 100],\n",
              "         [109, 111, 112, ..., 104, 102, 104]]]], dtype=uint8)"
            ]
          },
          "metadata": {
            "tags": []
          },
          "execution_count": 52
        }
      ]
    },
    {
      "cell_type": "code",
      "metadata": {
        "id": "UUpGqu2g7W5L",
        "colab": {
          "base_uri": "https://localhost:8080/"
        },
        "outputId": "0eff85b2-0bf1-448e-fc80-5d687c05b734"
      },
      "source": [
        "test_images_fin = np.rollaxis(test_imagesX,3,1)\n",
        "test_images_fin"
      ],
      "execution_count": null,
      "outputs": [
        {
          "output_type": "execute_result",
          "data": {
            "text/plain": [
              "array([[[[ 30,  29,  29, ...,  69,  71,  79],\n",
              "         [ 31,  30,  29, ...,  32,  28,  48],\n",
              "         [ 29,  32,  32, ...,  44,  34,  83],\n",
              "         ...,\n",
              "         [ 42,  35,  29, ..., 221, 248, 255],\n",
              "         [ 38,  43,  36, ..., 108, 112, 125],\n",
              "         [ 31,  41,  51, ..., 212, 217, 225]],\n",
              "\n",
              "        [[ 23,  21,  20, ...,  68,  70,  78],\n",
              "         [ 20,  20,  19, ...,  31,  28,  47],\n",
              "         [ 15,  20,  20, ...,  42,  34,  82],\n",
              "         ...,\n",
              "         [ 35,  28,  22, ..., 186, 219, 233],\n",
              "         [ 28,  33,  26, ...,  56,  67,  86],\n",
              "         [ 20,  30,  39, ..., 141, 154, 167]],\n",
              "\n",
              "        [[ 28,  28,  29, ..., 102, 108, 118],\n",
              "         [ 35,  34,  33, ...,  65,  65,  87],\n",
              "         [ 39,  41,  39, ...,  77,  70, 123],\n",
              "         ...,\n",
              "         [ 57,  49,  48, ..., 133, 161, 172],\n",
              "         [ 57,  60,  52, ...,  10,  14,  26],\n",
              "         [ 53,  59,  64, ...,  99, 104, 111]]],\n",
              "\n",
              "\n",
              "       [[[ 30,  29,  29, ...,  69,  71,  79],\n",
              "         [ 31,  30,  29, ...,  32,  28,  48],\n",
              "         [ 29,  32,  32, ...,  44,  34,  83],\n",
              "         ...,\n",
              "         [ 42,  35,  29, ..., 221, 248, 255],\n",
              "         [ 38,  43,  36, ..., 108, 112, 125],\n",
              "         [ 31,  41,  51, ..., 212, 217, 225]],\n",
              "\n",
              "        [[ 23,  21,  20, ...,  68,  70,  78],\n",
              "         [ 20,  20,  19, ...,  31,  28,  47],\n",
              "         [ 15,  20,  20, ...,  42,  34,  82],\n",
              "         ...,\n",
              "         [ 35,  28,  22, ..., 186, 219, 233],\n",
              "         [ 28,  33,  26, ...,  56,  67,  86],\n",
              "         [ 20,  30,  39, ..., 141, 154, 167]],\n",
              "\n",
              "        [[ 28,  28,  29, ..., 102, 108, 118],\n",
              "         [ 35,  34,  33, ...,  65,  65,  87],\n",
              "         [ 39,  41,  39, ...,  77,  70, 123],\n",
              "         ...,\n",
              "         [ 57,  49,  48, ..., 133, 161, 172],\n",
              "         [ 57,  60,  52, ...,  10,  14,  26],\n",
              "         [ 53,  59,  64, ...,  99, 104, 111]]],\n",
              "\n",
              "\n",
              "       [[[ 30,  29,  29, ...,  69,  71,  79],\n",
              "         [ 31,  30,  29, ...,  32,  28,  48],\n",
              "         [ 29,  32,  32, ...,  44,  34,  83],\n",
              "         ...,\n",
              "         [ 42,  35,  29, ..., 221, 248, 255],\n",
              "         [ 38,  43,  36, ..., 108, 112, 125],\n",
              "         [ 31,  41,  51, ..., 212, 217, 225]],\n",
              "\n",
              "        [[ 23,  21,  20, ...,  68,  70,  78],\n",
              "         [ 20,  20,  19, ...,  31,  28,  47],\n",
              "         [ 15,  20,  20, ...,  42,  34,  82],\n",
              "         ...,\n",
              "         [ 35,  28,  22, ..., 186, 219, 233],\n",
              "         [ 28,  33,  26, ...,  56,  67,  86],\n",
              "         [ 20,  30,  39, ..., 141, 154, 167]],\n",
              "\n",
              "        [[ 28,  28,  29, ..., 102, 108, 118],\n",
              "         [ 35,  34,  33, ...,  65,  65,  87],\n",
              "         [ 39,  41,  39, ...,  77,  70, 123],\n",
              "         ...,\n",
              "         [ 57,  49,  48, ..., 133, 161, 172],\n",
              "         [ 57,  60,  52, ...,  10,  14,  26],\n",
              "         [ 53,  59,  64, ...,  99, 104, 111]]],\n",
              "\n",
              "\n",
              "       ...,\n",
              "\n",
              "\n",
              "       [[[138, 136, 133, ...,  26,  24,  28],\n",
              "         [136, 136, 135, ...,  32,  24,  31],\n",
              "         [135, 137, 135, ...,  31,  32,  33],\n",
              "         ...,\n",
              "         [215, 213, 220, ...,  12,  15,  17],\n",
              "         [220, 208, 215, ...,  17,  18,  20],\n",
              "         [223, 209, 215, ...,  16,  17,  20]],\n",
              "\n",
              "        [[156, 154, 151, ...,  70,  68,  72],\n",
              "         [154, 154, 153, ...,  74,  65,  72],\n",
              "         [153, 155, 153, ...,  69,  70,  71],\n",
              "         ...,\n",
              "         [214, 206, 212, ...,  13,  16,  18],\n",
              "         [215, 201, 207, ...,  18,  19,  21],\n",
              "         [218, 202, 205, ...,  17,  18,  21]],\n",
              "\n",
              "        [[163, 161, 158, ..., 104, 102, 106],\n",
              "         [161, 161, 160, ..., 106,  98, 106],\n",
              "         [160, 162, 160, ...,  99, 101, 103],\n",
              "         ...,\n",
              "         [204, 199, 205, ...,  11,  14,  16],\n",
              "         [206, 194, 200, ...,  16,  17,  19],\n",
              "         [209, 195, 198, ...,  15,  16,  19]]],\n",
              "\n",
              "\n",
              "       [[[255, 247, 253, ..., 253, 247, 255],\n",
              "         [255, 247, 253, ..., 253, 247, 255],\n",
              "         [255, 247, 253, ..., 253, 247, 255],\n",
              "         ...,\n",
              "         [253, 243, 253, ..., 253, 243, 253],\n",
              "         [255, 237, 233, ..., 233, 237, 255],\n",
              "         [255, 249, 250, ..., 250, 249, 255]],\n",
              "\n",
              "        [[255, 247, 255, ..., 253, 245, 253],\n",
              "         [255, 247, 255, ..., 253, 245, 253],\n",
              "         [255, 247, 255, ..., 253, 245, 253],\n",
              "         ...,\n",
              "         [253, 243, 253, ..., 253, 243, 253],\n",
              "         [255, 237, 233, ..., 233, 237, 255],\n",
              "         [255, 249, 250, ..., 250, 249, 255]],\n",
              "\n",
              "        [[255, 247, 255, ..., 253, 245, 255],\n",
              "         [255, 247, 255, ..., 253, 245, 255],\n",
              "         [255, 247, 255, ..., 253, 245, 255],\n",
              "         ...,\n",
              "         [253, 243, 253, ..., 253, 243, 253],\n",
              "         [255, 237, 233, ..., 233, 237, 255],\n",
              "         [255, 249, 250, ..., 250, 249, 255]]],\n",
              "\n",
              "\n",
              "       [[[255, 247, 253, ..., 253, 247, 255],\n",
              "         [255, 247, 253, ..., 253, 247, 255],\n",
              "         [255, 247, 253, ..., 253, 247, 255],\n",
              "         ...,\n",
              "         [253, 243, 253, ..., 253, 243, 253],\n",
              "         [255, 237, 233, ..., 233, 237, 255],\n",
              "         [255, 249, 250, ..., 250, 249, 255]],\n",
              "\n",
              "        [[255, 247, 255, ..., 253, 245, 253],\n",
              "         [255, 247, 255, ..., 253, 245, 253],\n",
              "         [255, 247, 255, ..., 253, 245, 253],\n",
              "         ...,\n",
              "         [253, 243, 253, ..., 253, 243, 253],\n",
              "         [255, 237, 233, ..., 233, 237, 255],\n",
              "         [255, 249, 250, ..., 250, 249, 255]],\n",
              "\n",
              "        [[255, 247, 255, ..., 253, 245, 255],\n",
              "         [255, 247, 255, ..., 253, 245, 255],\n",
              "         [255, 247, 255, ..., 253, 245, 255],\n",
              "         ...,\n",
              "         [253, 243, 253, ..., 253, 243, 253],\n",
              "         [255, 237, 233, ..., 233, 237, 255],\n",
              "         [255, 249, 250, ..., 250, 249, 255]]]], dtype=uint8)"
            ]
          },
          "metadata": {
            "tags": []
          },
          "execution_count": 53
        }
      ]
    },
    {
      "cell_type": "markdown",
      "metadata": {
        "id": "XmA-BcWrGqIW"
      },
      "source": [
        "# SPOTFAKE MODEL"
      ]
    },
    {
      "cell_type": "code",
      "metadata": {
        "id": "T-X4ZPUWcGh6"
      },
      "source": [
        "from tensorflow.keras import backend as K\n",
        "import gc\n",
        "def spotfake_model( params):\n",
        "    \n",
        "  K.clear_session()\n",
        "  \n",
        "  bert_base = BertLayer()\n",
        "  bert_base.trainable= params['bert_trainable']\n",
        "\n",
        "  in_id = tf.keras.layers.Input(shape=(max_seq_length,), name=\"input_ids\")\n",
        "  in_mask = tf.keras.layers.Input(shape=(max_seq_length,), name=\"input_masks\")\n",
        "  in_segment = tf.keras.layers.Input(shape=(max_seq_length,), name=\"segment_ids\")\n",
        "  bert_inputs = [in_id, in_mask, in_segment]\n",
        "  bert_output = bert_base(bert_inputs)\n",
        "\n",
        "  for i in range(params['text_no_hidden_layer']):\n",
        "    bert_output = tf.keras.layers.Dense(params['text_hidden_neurons'], activation='relu')(bert_output)\n",
        "    bert_output = tf.keras.layers.Dropout(params['dropout'])(bert_output)\n",
        "\n",
        "  text_repr = tf.keras.layers.Dense(params['repr_size'], activation='relu')(bert_output)    #Tf\n",
        "  \n",
        "    #image model\n",
        "  conv_base = tf.keras.applications.VGG19(weights='imagenet', include_top=False, input_shape=(224,224,3))\n",
        "  conv_base.trainable=False\n",
        "\n",
        "  input_image = tf.keras.layers.Input(shape=(224,224,3))\n",
        "  base_output = conv_base(input_image)\n",
        "  flat = tf.keras.layers.Flatten()(base_output)\n",
        "\n",
        "  for i in range(params['vis_no_hidden_layer']):\n",
        "    flat = tf.keras.layers.Dense(params['vis_hidden_neurons'], activation='relu')(flat)\n",
        "    flat = tf.keras.layers.Dropout(params['dropout'])(flat)\n",
        "\n",
        "  visual_repr = tf.keras.layers.Dense(params['repr_size'],activation='relu')(flat)        #Vf\n",
        "\n",
        "\n",
        "  #classifier\n",
        "  combine_repr = tf.keras.layers.concatenate([text_repr, visual_repr])\n",
        "  com_drop=tf.keras.layers.Dropout(params['dropout'])(combine_repr)\n",
        "\n",
        "  for i in range(params['final_no_hidden_layer']):\n",
        "    com_drop = tf.keras.layers.Dense(params['final_hidden_neurons'], activation='relu')(com_drop)\n",
        "    com_drop=tf.keras.layers.Dropout(params['dropout'])(com_drop)\n",
        "  \n",
        "  prediction = tf.keras.layers.Dense(1,activation='sigmoid')(com_drop)\n",
        "\n",
        "  model = tf.keras.models.Model(inputs=[in_id,in_mask,in_segment,input_image], outputs=prediction)\n",
        "\n",
        "  model.compile(loss='binary_crossentropy', optimizer=params['optimizer'](), metrics=['accuracy'])\n",
        "  initialize_vars(sess)\n",
        "    \n",
        "  return model"
      ],
      "execution_count": null,
      "outputs": []
    },
    {
      "cell_type": "code",
      "metadata": {
        "id": "Ys-BQwZbBAMg"
      },
      "source": [
        "params = {\n",
        "    'bert_trainable' :False,\n",
        "    'text_no_hidden_layer':1,\n",
        "    'text_hidden_neurons':768,\n",
        "    'dropout':0.4,\n",
        "    'repr_size':32,\n",
        "    'vis_no_hidden_layer':1,\n",
        "    'vis_hidden_neurons':2742,\n",
        "    'final_no_hidden_layer':1,\n",
        "    'final_hidden_neurons':35,\n",
        "    'optimizer':tf.keras.optimizers.Adam\n",
        "}"
      ],
      "execution_count": null,
      "outputs": []
    },
    {
      "cell_type": "code",
      "metadata": {
        "id": "p6NG5AM3PG5I",
        "colab": {
          "base_uri": "https://localhost:8080/"
        },
        "outputId": "e9d092bc-9071-4c8a-dec5-73cb077271f2"
      },
      "source": [
        "model = spotfake_model(params=params)"
      ],
      "execution_count": null,
      "outputs": [
        {
          "output_type": "stream",
          "text": [
            "INFO:tensorflow:Saver not created because there are no variables in the graph to restore\n"
          ],
          "name": "stdout"
        },
        {
          "output_type": "stream",
          "text": [
            "INFO:tensorflow:Saver not created because there are no variables in the graph to restore\n"
          ],
          "name": "stderr"
        },
        {
          "output_type": "stream",
          "text": [
            "WARNING:tensorflow:From /usr/local/lib/python3.7/dist-packages/tensorflow_core/python/ops/resource_variable_ops.py:1630: calling BaseResourceVariable.__init__ (from tensorflow.python.ops.resource_variable_ops) with constraint is deprecated and will be removed in a future version.\n",
            "Instructions for updating:\n",
            "If using Keras pass *_constraint arguments to layers.\n"
          ],
          "name": "stdout"
        },
        {
          "output_type": "stream",
          "text": [
            "WARNING:tensorflow:From /usr/local/lib/python3.7/dist-packages/tensorflow_core/python/ops/resource_variable_ops.py:1630: calling BaseResourceVariable.__init__ (from tensorflow.python.ops.resource_variable_ops) with constraint is deprecated and will be removed in a future version.\n",
            "Instructions for updating:\n",
            "If using Keras pass *_constraint arguments to layers.\n"
          ],
          "name": "stderr"
        },
        {
          "output_type": "stream",
          "text": [
            "Downloading data from https://github.com/fchollet/deep-learning-models/releases/download/v0.1/vgg19_weights_tf_dim_ordering_tf_kernels_notop.h5\n",
            "80142336/80134624 [==============================] - 1s 0us/step\n",
            "WARNING:tensorflow:From /usr/local/lib/python3.7/dist-packages/tensorflow_core/python/ops/nn_impl.py:183: where (from tensorflow.python.ops.array_ops) is deprecated and will be removed in a future version.\n",
            "Instructions for updating:\n",
            "Use tf.where in 2.0, which has the same broadcast rule as np.where\n"
          ],
          "name": "stdout"
        },
        {
          "output_type": "stream",
          "text": [
            "WARNING:tensorflow:From /usr/local/lib/python3.7/dist-packages/tensorflow_core/python/ops/nn_impl.py:183: where (from tensorflow.python.ops.array_ops) is deprecated and will be removed in a future version.\n",
            "Instructions for updating:\n",
            "Use tf.where in 2.0, which has the same broadcast rule as np.where\n"
          ],
          "name": "stderr"
        }
      ]
    },
    {
      "cell_type": "code",
      "metadata": {
        "id": "KeyWd7vNF2rr",
        "colab": {
          "base_uri": "https://localhost:8080/"
        },
        "outputId": "7aab12b8-e768-4580-c1fe-03a28f913d81"
      },
      "source": [
        "model.summary()"
      ],
      "execution_count": null,
      "outputs": [
        {
          "output_type": "stream",
          "text": [
            "Model: \"model\"\n",
            "__________________________________________________________________________________________________\n",
            "Layer (type)                    Output Shape         Param #     Connected to                     \n",
            "==================================================================================================\n",
            "input_2 (InputLayer)            [(None, 224, 224, 3) 0                                            \n",
            "__________________________________________________________________________________________________\n",
            "input_ids (InputLayer)          [(None, 25)]         0                                            \n",
            "__________________________________________________________________________________________________\n",
            "input_masks (InputLayer)        [(None, 25)]         0                                            \n",
            "__________________________________________________________________________________________________\n",
            "segment_ids (InputLayer)        [(None, 25)]         0                                            \n",
            "__________________________________________________________________________________________________\n",
            "vgg19 (Model)                   (None, 7, 7, 512)    20024384    input_2[0][0]                    \n",
            "__________________________________________________________________________________________________\n",
            "bert_layer (BertLayer)          (None, 768)          110104890   input_ids[0][0]                  \n",
            "                                                                 input_masks[0][0]                \n",
            "                                                                 segment_ids[0][0]                \n",
            "__________________________________________________________________________________________________\n",
            "flatten (Flatten)               (None, 25088)        0           vgg19[1][0]                      \n",
            "__________________________________________________________________________________________________\n",
            "dense (Dense)                   (None, 768)          590592      bert_layer[0][0]                 \n",
            "__________________________________________________________________________________________________\n",
            "dense_2 (Dense)                 (None, 2742)         68794038    flatten[0][0]                    \n",
            "__________________________________________________________________________________________________\n",
            "dropout (Dropout)               (None, 768)          0           dense[0][0]                      \n",
            "__________________________________________________________________________________________________\n",
            "dropout_1 (Dropout)             (None, 2742)         0           dense_2[0][0]                    \n",
            "__________________________________________________________________________________________________\n",
            "dense_1 (Dense)                 (None, 32)           24608       dropout[0][0]                    \n",
            "__________________________________________________________________________________________________\n",
            "dense_3 (Dense)                 (None, 32)           87776       dropout_1[0][0]                  \n",
            "__________________________________________________________________________________________________\n",
            "concatenate (Concatenate)       (None, 64)           0           dense_1[0][0]                    \n",
            "                                                                 dense_3[0][0]                    \n",
            "__________________________________________________________________________________________________\n",
            "dropout_2 (Dropout)             (None, 64)           0           concatenate[0][0]                \n",
            "__________________________________________________________________________________________________\n",
            "dense_4 (Dense)                 (None, 35)           2275        dropout_2[0][0]                  \n",
            "__________________________________________________________________________________________________\n",
            "dropout_3 (Dropout)             (None, 35)           0           dense_4[0][0]                    \n",
            "__________________________________________________________________________________________________\n",
            "dense_5 (Dense)                 (None, 1)            36          dropout_3[0][0]                  \n",
            "==================================================================================================\n",
            "Total params: 199,628,599\n",
            "Trainable params: 69,499,325\n",
            "Non-trainable params: 130,129,274\n",
            "__________________________________________________________________________________________________\n"
          ],
          "name": "stdout"
        }
      ]
    },
    {
      "cell_type": "code",
      "metadata": {
        "id": "izWP48hoJOsG",
        "colab": {
          "base_uri": "https://localhost:8080/"
        },
        "outputId": "1ce249c5-bcdb-4b27-f717-9245bd2ed979"
      },
      "source": [
        "len(train_input_ids), len(train_imagesX)"
      ],
      "execution_count": null,
      "outputs": [
        {
          "output_type": "execute_result",
          "data": {
            "text/plain": [
              "(13241, 13241)"
            ]
          },
          "metadata": {
            "tags": []
          },
          "execution_count": 58
        }
      ]
    },
    {
      "cell_type": "code",
      "metadata": {
        "id": "78gxddtb9gOZ",
        "colab": {
          "base_uri": "https://localhost:8080/"
        },
        "outputId": "90f39dc1-08e0-43e8-cb86-feece9706f87"
      },
      "source": [
        "out = model.fit([train_input_ids, train_input_masks, train_segment_ids,train_imagesX], y_train,\n",
        "                    batch_size=256,\n",
        "                    epochs=20,\n",
        "                    verbose=1,\n",
        "                    shuffle=True,\n",
        "                    validation_data=([test_input_ids, test_input_masks, test_segment_ids,test_imagesX],y_test))"
      ],
      "execution_count": null,
      "outputs": [
        {
          "output_type": "stream",
          "text": [
            "Train on 13241 samples, validate on 1098 samples\n",
            "Epoch 1/20\n",
            "13241/13241 [==============================] - 142s 11ms/sample - loss: 0.6569 - acc: 0.6240 - val_loss: 0.7080 - val_acc: 0.5073\n",
            "Epoch 2/20\n",
            "13241/13241 [==============================] - 114s 9ms/sample - loss: 0.5603 - acc: 0.6790 - val_loss: 0.7247 - val_acc: 0.4964\n",
            "Epoch 3/20\n",
            "13241/13241 [==============================] - 114s 9ms/sample - loss: 0.5323 - acc: 0.7021 - val_loss: 0.9121 - val_acc: 0.6239\n",
            "Epoch 4/20\n",
            "13241/13241 [==============================] - 114s 9ms/sample - loss: 0.4940 - acc: 0.7332 - val_loss: 0.7730 - val_acc: 0.6157\n",
            "Epoch 5/20\n",
            "13241/13241 [==============================] - 115s 9ms/sample - loss: 0.4796 - acc: 0.7407 - val_loss: 0.7232 - val_acc: 0.6047\n",
            "Epoch 6/20\n",
            "13241/13241 [==============================] - 114s 9ms/sample - loss: 0.4775 - acc: 0.7406 - val_loss: 0.7498 - val_acc: 0.5774\n",
            "Epoch 7/20\n",
            "13241/13241 [==============================] - 114s 9ms/sample - loss: 0.4733 - acc: 0.7438 - val_loss: 0.7889 - val_acc: 0.5993\n",
            "Epoch 8/20\n",
            "13241/13241 [==============================] - 114s 9ms/sample - loss: 0.4427 - acc: 0.7738 - val_loss: 0.8156 - val_acc: 0.5792\n",
            "Epoch 9/20\n",
            "13241/13241 [==============================] - 114s 9ms/sample - loss: 0.2719 - acc: 0.8939 - val_loss: 1.3599 - val_acc: 0.6102\n",
            "Epoch 10/20\n",
            "13241/13241 [==============================] - 114s 9ms/sample - loss: 0.1847 - acc: 0.9449 - val_loss: 0.8048 - val_acc: 0.5383\n",
            "Epoch 11/20\n",
            "13241/13241 [==============================] - 114s 9ms/sample - loss: 0.1722 - acc: 0.9458 - val_loss: 0.9348 - val_acc: 0.6630\n",
            "Epoch 12/20\n",
            "13241/13241 [==============================] - 114s 9ms/sample - loss: 0.1237 - acc: 0.9697 - val_loss: 1.3168 - val_acc: 0.6594\n",
            "Epoch 13/20\n",
            "13241/13241 [==============================] - 114s 9ms/sample - loss: 0.0849 - acc: 0.9826 - val_loss: 1.2471 - val_acc: 0.6293\n",
            "Epoch 14/20\n",
            "13241/13241 [==============================] - 114s 9ms/sample - loss: 0.1244 - acc: 0.9629 - val_loss: 1.5977 - val_acc: 0.6047\n",
            "Epoch 15/20\n",
            "13241/13241 [==============================] - 114s 9ms/sample - loss: 0.0728 - acc: 0.9802 - val_loss: 1.6453 - val_acc: 0.6330\n",
            "Epoch 16/20\n",
            "13241/13241 [==============================] - 114s 9ms/sample - loss: 0.0489 - acc: 0.9872 - val_loss: 1.3222 - val_acc: 0.6849\n",
            "Epoch 17/20\n",
            "13241/13241 [==============================] - 114s 9ms/sample - loss: 0.0478 - acc: 0.9874 - val_loss: 1.1465 - val_acc: 0.6557\n",
            "Epoch 18/20\n",
            "13241/13241 [==============================] - 114s 9ms/sample - loss: 0.0443 - acc: 0.9878 - val_loss: 1.5344 - val_acc: 0.6375\n",
            "Epoch 19/20\n",
            "13241/13241 [==============================] - 114s 9ms/sample - loss: 0.1318 - acc: 0.9563 - val_loss: 1.1498 - val_acc: 0.6821\n",
            "Epoch 20/20\n",
            "13241/13241 [==============================] - 114s 9ms/sample - loss: 0.0438 - acc: 0.9872 - val_loss: 1.5099 - val_acc: 0.6612\n"
          ],
          "name": "stdout"
        }
      ]
    },
    {
      "cell_type": "code",
      "metadata": {
        "id": "oEFJH0X7vPdf"
      },
      "source": [
        "test_predict = model.predict([test_input_ids, test_input_masks, test_segment_ids,test_imagesX])\n",
        "test_predict = [1 if i>=0.5 else 0 for i in test_predict]"
      ],
      "execution_count": null,
      "outputs": []
    },
    {
      "cell_type": "code",
      "metadata": {
        "colab": {
          "base_uri": "https://localhost:8080/"
        },
        "id": "VOCdcaNzPEYB",
        "outputId": "25796130-2ad2-47af-fd83-336fd3647aac"
      },
      "source": [
        "from sklearn.metrics import confusion_matrix, classification_report\n",
        "\n",
        "print('Classification Report:')\n",
        "print(classification_report(y_true=y_test, y_pred=test_predict))"
      ],
      "execution_count": null,
      "outputs": [
        {
          "output_type": "stream",
          "text": [
            "Classification Report:\n",
            "              precision    recall  f1-score   support\n",
            "\n",
            "           0       0.66      0.86      0.75       630\n",
            "           1       0.68      0.39      0.49       468\n",
            "\n",
            "    accuracy                           0.66      1098\n",
            "   macro avg       0.67      0.63      0.62      1098\n",
            "weighted avg       0.67      0.66      0.64      1098\n",
            "\n"
          ],
          "name": "stdout"
        }
      ]
    },
    {
      "cell_type": "code",
      "metadata": {
        "colab": {
          "base_uri": "https://localhost:8080/",
          "height": 279
        },
        "id": "Fuqs_MP5PbVN",
        "outputId": "5ac79e1f-27db-491a-a541-79949424fd8d"
      },
      "source": [
        "import seaborn as sns\n",
        "import matplotlib.pyplot as plt\n",
        "\n",
        "%matplotlib inline\n",
        "\n",
        "with tf.Session() as session:\n",
        "    cm = tf.confusion_matrix(y_test, test_predict).eval()\n",
        "\n",
        "LABELS = ['negative', 'positive']\n",
        "sns.heatmap(cm, annot=True, xticklabels=LABELS, yticklabels=LABELS, fmt='g')\n",
        "xl = plt.xlabel(\"Prediction\")\n",
        "yl = plt.ylabel(\"Ground truth\")"
      ],
      "execution_count": null,
      "outputs": [
        {
          "output_type": "display_data",
          "data": {
            "image/png": "[encoded data removed]",
            "text/plain": [
              "<Figure size 432x288 with 2 Axes>"
            ]
          },
          "metadata": {
            "tags": [],
            "needs_background": "light"
          }
        }
      ]
    }
  ]
}